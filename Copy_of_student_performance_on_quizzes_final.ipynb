{
  "cells": [
    {
      "cell_type": "markdown",
      "metadata": {
        "id": "view-in-github",
        "colab_type": "text"
      },
      "source": [
        "<a href=\"https://colab.research.google.com/github/BERLINx03/SWE-2_PROJECT/blob/main/Copy_of_student_performance_on_quizzes_final.ipynb\" target=\"_parent\"><img src=\"https://colab.research.google.com/assets/colab-badge.svg\" alt=\"Open In Colab\"/></a>"
      ]
    },
    {
      "cell_type": "code",
      "execution_count": null,
      "id": "77359131-3292-40b8-b695-89b6ae37dec8",
      "metadata": {
        "id": "77359131-3292-40b8-b695-89b6ae37dec8"
      },
      "outputs": [],
      "source": [
        "import pandas as pd\n",
        "import numpy as np\n",
        "import matplotlib.pyplot as plt\n",
        "import seaborn as sns\n",
        "%matplotlib inline"
      ]
    },
    {
      "cell_type": "code",
      "execution_count": null,
      "id": "ddb27d33-549e-453e-861b-c31c71f71662",
      "metadata": {
        "id": "ddb27d33-549e-453e-861b-c31c71f71662"
      },
      "outputs": [],
      "source": [
        "df= pd.read_csv('/content/assistments_2009_2010.csv')\n",
        "df.head()\n",
        "df=df.sample(frac=0.2,random_state=101)"
      ]
    },
    {
      "cell_type": "code",
      "execution_count": null,
      "id": "VlQ9P-Plaoxr",
      "metadata": {
        "id": "VlQ9P-Plaoxr"
      },
      "outputs": [],
      "source": [
        "# from google.colab import drive\n",
        "# drive.mount('/content/drive')"
      ]
    },
    {
      "cell_type": "markdown",
      "id": "cc12b201-c6b0-4d68-bf4e-e8a3885cf94f",
      "metadata": {
        "id": "cc12b201-c6b0-4d68-bf4e-e8a3885cf94f"
      },
      "source": [
        "df.info()"
      ]
    },
    {
      "cell_type": "code",
      "execution_count": null,
      "id": "ed6ef23a-8807-4f20-9622-9b7b609c9ff2",
      "metadata": {
        "colab": {
          "base_uri": "https://localhost:8080/",
          "height": 539
        },
        "id": "ed6ef23a-8807-4f20-9622-9b7b609c9ff2",
        "outputId": "6ebe3860-7006-4367-ce62-79af33f267a2"
      },
      "outputs": [
        {
          "output_type": "execute_result",
          "data": {
            "text/plain": [
              "                           count          mean           std         min  \\\n",
              "order_id                202216.0  2.948530e+07  5.330974e+06  20224123.0   \n",
              "assignment_id           202216.0  2.723541e+05  1.025803e+04    174100.0   \n",
              "user_id                 202216.0  8.233406e+04  6.790524e+03     21825.0   \n",
              "assistment_id           202216.0  4.320156e+04  2.033355e+04         5.0   \n",
              "problem_id              202216.0  7.533713e+04  4.144563e+04         1.0   \n",
              "original                202216.0  7.930282e-01  4.051361e-01         0.0   \n",
              "correct                 202216.0  6.284654e-01  4.830487e-01         0.0   \n",
              "attempt_count           202216.0  1.432547e+00  4.385271e+00         0.0   \n",
              "ms_first_response_time  202198.0  5.016890e+04  6.374261e+05   -800125.0   \n",
              "sequence_id             200038.0  7.426818e+03  1.984178e+03      2246.0   \n",
              "student_class_id        200038.0  1.276886e+04  7.040202e+02     11271.0   \n",
              "position                200038.0  4.252773e+01  6.403197e+01         1.0   \n",
              "base_sequence_id        200038.0  7.138486e+03  1.893959e+03      2246.0   \n",
              "teacher_id              200038.0  4.352775e+04  1.649212e+04     10646.0   \n",
              "school_id               196403.0  3.277856e+03  2.065838e+03        73.0   \n",
              "\n",
              "                                25%         50%          75%          max  \n",
              "order_id                25000786.50  29532952.5  33568471.50   38310281.0  \n",
              "assignment_id             266439.00    271019.0    278123.00     291504.0  \n",
              "user_id                    78809.75     79777.0     84882.00      96299.0  \n",
              "assistment_id              29579.00     43949.0     53700.00      96223.0  \n",
              "problem_id                 42411.00     80538.0     93826.00     182111.0  \n",
              "original                       1.00         1.0         1.00          1.0  \n",
              "correct                        0.00         1.0         1.00          1.0  \n",
              "attempt_count                  1.00         1.0         1.00        603.0  \n",
              "ms_first_response_time      7294.00     17551.0     43510.75  173301028.0  \n",
              "sequence_id                 5970.00      7023.0      9143.00      12367.0  \n",
              "student_class_id           12352.00     12473.0     12893.00      14415.0  \n",
              "position                       2.00        15.0        46.00        297.0  \n",
              "base_sequence_id            5962.00      6851.0      8398.00      12367.0  \n",
              "teacher_id                 32543.00     45778.0     54254.00      69274.0  \n",
              "school_id                   1689.00      2770.0      5056.00       5794.0  "
            ],
            "text/html": [
              "\n",
              "  <div id=\"df-66f77a0f-0d47-4376-a8df-ccd9991bd3cf\" class=\"colab-df-container\">\n",
              "    <div>\n",
              "<style scoped>\n",
              "    .dataframe tbody tr th:only-of-type {\n",
              "        vertical-align: middle;\n",
              "    }\n",
              "\n",
              "    .dataframe tbody tr th {\n",
              "        vertical-align: top;\n",
              "    }\n",
              "\n",
              "    .dataframe thead th {\n",
              "        text-align: right;\n",
              "    }\n",
              "</style>\n",
              "<table border=\"1\" class=\"dataframe\">\n",
              "  <thead>\n",
              "    <tr style=\"text-align: right;\">\n",
              "      <th></th>\n",
              "      <th>count</th>\n",
              "      <th>mean</th>\n",
              "      <th>std</th>\n",
              "      <th>min</th>\n",
              "      <th>25%</th>\n",
              "      <th>50%</th>\n",
              "      <th>75%</th>\n",
              "      <th>max</th>\n",
              "    </tr>\n",
              "  </thead>\n",
              "  <tbody>\n",
              "    <tr>\n",
              "      <th>order_id</th>\n",
              "      <td>202216.0</td>\n",
              "      <td>2.948530e+07</td>\n",
              "      <td>5.330974e+06</td>\n",
              "      <td>20224123.0</td>\n",
              "      <td>25000786.50</td>\n",
              "      <td>29532952.5</td>\n",
              "      <td>33568471.50</td>\n",
              "      <td>38310281.0</td>\n",
              "    </tr>\n",
              "    <tr>\n",
              "      <th>assignment_id</th>\n",
              "      <td>202216.0</td>\n",
              "      <td>2.723541e+05</td>\n",
              "      <td>1.025803e+04</td>\n",
              "      <td>174100.0</td>\n",
              "      <td>266439.00</td>\n",
              "      <td>271019.0</td>\n",
              "      <td>278123.00</td>\n",
              "      <td>291504.0</td>\n",
              "    </tr>\n",
              "    <tr>\n",
              "      <th>user_id</th>\n",
              "      <td>202216.0</td>\n",
              "      <td>8.233406e+04</td>\n",
              "      <td>6.790524e+03</td>\n",
              "      <td>21825.0</td>\n",
              "      <td>78809.75</td>\n",
              "      <td>79777.0</td>\n",
              "      <td>84882.00</td>\n",
              "      <td>96299.0</td>\n",
              "    </tr>\n",
              "    <tr>\n",
              "      <th>assistment_id</th>\n",
              "      <td>202216.0</td>\n",
              "      <td>4.320156e+04</td>\n",
              "      <td>2.033355e+04</td>\n",
              "      <td>5.0</td>\n",
              "      <td>29579.00</td>\n",
              "      <td>43949.0</td>\n",
              "      <td>53700.00</td>\n",
              "      <td>96223.0</td>\n",
              "    </tr>\n",
              "    <tr>\n",
              "      <th>problem_id</th>\n",
              "      <td>202216.0</td>\n",
              "      <td>7.533713e+04</td>\n",
              "      <td>4.144563e+04</td>\n",
              "      <td>1.0</td>\n",
              "      <td>42411.00</td>\n",
              "      <td>80538.0</td>\n",
              "      <td>93826.00</td>\n",
              "      <td>182111.0</td>\n",
              "    </tr>\n",
              "    <tr>\n",
              "      <th>original</th>\n",
              "      <td>202216.0</td>\n",
              "      <td>7.930282e-01</td>\n",
              "      <td>4.051361e-01</td>\n",
              "      <td>0.0</td>\n",
              "      <td>1.00</td>\n",
              "      <td>1.0</td>\n",
              "      <td>1.00</td>\n",
              "      <td>1.0</td>\n",
              "    </tr>\n",
              "    <tr>\n",
              "      <th>correct</th>\n",
              "      <td>202216.0</td>\n",
              "      <td>6.284654e-01</td>\n",
              "      <td>4.830487e-01</td>\n",
              "      <td>0.0</td>\n",
              "      <td>0.00</td>\n",
              "      <td>1.0</td>\n",
              "      <td>1.00</td>\n",
              "      <td>1.0</td>\n",
              "    </tr>\n",
              "    <tr>\n",
              "      <th>attempt_count</th>\n",
              "      <td>202216.0</td>\n",
              "      <td>1.432547e+00</td>\n",
              "      <td>4.385271e+00</td>\n",
              "      <td>0.0</td>\n",
              "      <td>1.00</td>\n",
              "      <td>1.0</td>\n",
              "      <td>1.00</td>\n",
              "      <td>603.0</td>\n",
              "    </tr>\n",
              "    <tr>\n",
              "      <th>ms_first_response_time</th>\n",
              "      <td>202198.0</td>\n",
              "      <td>5.016890e+04</td>\n",
              "      <td>6.374261e+05</td>\n",
              "      <td>-800125.0</td>\n",
              "      <td>7294.00</td>\n",
              "      <td>17551.0</td>\n",
              "      <td>43510.75</td>\n",
              "      <td>173301028.0</td>\n",
              "    </tr>\n",
              "    <tr>\n",
              "      <th>sequence_id</th>\n",
              "      <td>200038.0</td>\n",
              "      <td>7.426818e+03</td>\n",
              "      <td>1.984178e+03</td>\n",
              "      <td>2246.0</td>\n",
              "      <td>5970.00</td>\n",
              "      <td>7023.0</td>\n",
              "      <td>9143.00</td>\n",
              "      <td>12367.0</td>\n",
              "    </tr>\n",
              "    <tr>\n",
              "      <th>student_class_id</th>\n",
              "      <td>200038.0</td>\n",
              "      <td>1.276886e+04</td>\n",
              "      <td>7.040202e+02</td>\n",
              "      <td>11271.0</td>\n",
              "      <td>12352.00</td>\n",
              "      <td>12473.0</td>\n",
              "      <td>12893.00</td>\n",
              "      <td>14415.0</td>\n",
              "    </tr>\n",
              "    <tr>\n",
              "      <th>position</th>\n",
              "      <td>200038.0</td>\n",
              "      <td>4.252773e+01</td>\n",
              "      <td>6.403197e+01</td>\n",
              "      <td>1.0</td>\n",
              "      <td>2.00</td>\n",
              "      <td>15.0</td>\n",
              "      <td>46.00</td>\n",
              "      <td>297.0</td>\n",
              "    </tr>\n",
              "    <tr>\n",
              "      <th>base_sequence_id</th>\n",
              "      <td>200038.0</td>\n",
              "      <td>7.138486e+03</td>\n",
              "      <td>1.893959e+03</td>\n",
              "      <td>2246.0</td>\n",
              "      <td>5962.00</td>\n",
              "      <td>6851.0</td>\n",
              "      <td>8398.00</td>\n",
              "      <td>12367.0</td>\n",
              "    </tr>\n",
              "    <tr>\n",
              "      <th>teacher_id</th>\n",
              "      <td>200038.0</td>\n",
              "      <td>4.352775e+04</td>\n",
              "      <td>1.649212e+04</td>\n",
              "      <td>10646.0</td>\n",
              "      <td>32543.00</td>\n",
              "      <td>45778.0</td>\n",
              "      <td>54254.00</td>\n",
              "      <td>69274.0</td>\n",
              "    </tr>\n",
              "    <tr>\n",
              "      <th>school_id</th>\n",
              "      <td>196403.0</td>\n",
              "      <td>3.277856e+03</td>\n",
              "      <td>2.065838e+03</td>\n",
              "      <td>73.0</td>\n",
              "      <td>1689.00</td>\n",
              "      <td>2770.0</td>\n",
              "      <td>5056.00</td>\n",
              "      <td>5794.0</td>\n",
              "    </tr>\n",
              "  </tbody>\n",
              "</table>\n",
              "</div>\n",
              "    <div class=\"colab-df-buttons\">\n",
              "\n",
              "  <div class=\"colab-df-container\">\n",
              "    <button class=\"colab-df-convert\" onclick=\"convertToInteractive('df-66f77a0f-0d47-4376-a8df-ccd9991bd3cf')\"\n",
              "            title=\"Convert this dataframe to an interactive table.\"\n",
              "            style=\"display:none;\">\n",
              "\n",
              "  <svg xmlns=\"http://www.w3.org/2000/svg\" height=\"24px\" viewBox=\"0 -960 960 960\">\n",
              "    <path d=\"M120-120v-720h720v720H120Zm60-500h600v-160H180v160Zm220 220h160v-160H400v160Zm0 220h160v-160H400v160ZM180-400h160v-160H180v160Zm440 0h160v-160H620v160ZM180-180h160v-160H180v160Zm440 0h160v-160H620v160Z\"/>\n",
              "  </svg>\n",
              "    </button>\n",
              "\n",
              "  <style>\n",
              "    .colab-df-container {\n",
              "      display:flex;\n",
              "      gap: 12px;\n",
              "    }\n",
              "\n",
              "    .colab-df-convert {\n",
              "      background-color: #E8F0FE;\n",
              "      border: none;\n",
              "      border-radius: 50%;\n",
              "      cursor: pointer;\n",
              "      display: none;\n",
              "      fill: #1967D2;\n",
              "      height: 32px;\n",
              "      padding: 0 0 0 0;\n",
              "      width: 32px;\n",
              "    }\n",
              "\n",
              "    .colab-df-convert:hover {\n",
              "      background-color: #E2EBFA;\n",
              "      box-shadow: 0px 1px 2px rgba(60, 64, 67, 0.3), 0px 1px 3px 1px rgba(60, 64, 67, 0.15);\n",
              "      fill: #174EA6;\n",
              "    }\n",
              "\n",
              "    .colab-df-buttons div {\n",
              "      margin-bottom: 4px;\n",
              "    }\n",
              "\n",
              "    [theme=dark] .colab-df-convert {\n",
              "      background-color: #3B4455;\n",
              "      fill: #D2E3FC;\n",
              "    }\n",
              "\n",
              "    [theme=dark] .colab-df-convert:hover {\n",
              "      background-color: #434B5C;\n",
              "      box-shadow: 0px 1px 3px 1px rgba(0, 0, 0, 0.15);\n",
              "      filter: drop-shadow(0px 1px 2px rgba(0, 0, 0, 0.3));\n",
              "      fill: #FFFFFF;\n",
              "    }\n",
              "  </style>\n",
              "\n",
              "    <script>\n",
              "      const buttonEl =\n",
              "        document.querySelector('#df-66f77a0f-0d47-4376-a8df-ccd9991bd3cf button.colab-df-convert');\n",
              "      buttonEl.style.display =\n",
              "        google.colab.kernel.accessAllowed ? 'block' : 'none';\n",
              "\n",
              "      async function convertToInteractive(key) {\n",
              "        const element = document.querySelector('#df-66f77a0f-0d47-4376-a8df-ccd9991bd3cf');\n",
              "        const dataTable =\n",
              "          await google.colab.kernel.invokeFunction('convertToInteractive',\n",
              "                                                    [key], {});\n",
              "        if (!dataTable) return;\n",
              "\n",
              "        const docLinkHtml = 'Like what you see? Visit the ' +\n",
              "          '<a target=\"_blank\" href=https://colab.research.google.com/notebooks/data_table.ipynb>data table notebook</a>'\n",
              "          + ' to learn more about interactive tables.';\n",
              "        element.innerHTML = '';\n",
              "        dataTable['output_type'] = 'display_data';\n",
              "        await google.colab.output.renderOutput(dataTable, element);\n",
              "        const docLink = document.createElement('div');\n",
              "        docLink.innerHTML = docLinkHtml;\n",
              "        element.appendChild(docLink);\n",
              "      }\n",
              "    </script>\n",
              "  </div>\n",
              "\n",
              "\n",
              "<div id=\"df-be229e8a-1b71-4f11-93d6-5ebd8aa85de5\">\n",
              "  <button class=\"colab-df-quickchart\" onclick=\"quickchart('df-be229e8a-1b71-4f11-93d6-5ebd8aa85de5')\"\n",
              "            title=\"Suggest charts\"\n",
              "            style=\"display:none;\">\n",
              "\n",
              "<svg xmlns=\"http://www.w3.org/2000/svg\" height=\"24px\"viewBox=\"0 0 24 24\"\n",
              "     width=\"24px\">\n",
              "    <g>\n",
              "        <path d=\"M19 3H5c-1.1 0-2 .9-2 2v14c0 1.1.9 2 2 2h14c1.1 0 2-.9 2-2V5c0-1.1-.9-2-2-2zM9 17H7v-7h2v7zm4 0h-2V7h2v10zm4 0h-2v-4h2v4z\"/>\n",
              "    </g>\n",
              "</svg>\n",
              "  </button>\n",
              "\n",
              "<style>\n",
              "  .colab-df-quickchart {\n",
              "      --bg-color: #E8F0FE;\n",
              "      --fill-color: #1967D2;\n",
              "      --hover-bg-color: #E2EBFA;\n",
              "      --hover-fill-color: #174EA6;\n",
              "      --disabled-fill-color: #AAA;\n",
              "      --disabled-bg-color: #DDD;\n",
              "  }\n",
              "\n",
              "  [theme=dark] .colab-df-quickchart {\n",
              "      --bg-color: #3B4455;\n",
              "      --fill-color: #D2E3FC;\n",
              "      --hover-bg-color: #434B5C;\n",
              "      --hover-fill-color: #FFFFFF;\n",
              "      --disabled-bg-color: #3B4455;\n",
              "      --disabled-fill-color: #666;\n",
              "  }\n",
              "\n",
              "  .colab-df-quickchart {\n",
              "    background-color: var(--bg-color);\n",
              "    border: none;\n",
              "    border-radius: 50%;\n",
              "    cursor: pointer;\n",
              "    display: none;\n",
              "    fill: var(--fill-color);\n",
              "    height: 32px;\n",
              "    padding: 0;\n",
              "    width: 32px;\n",
              "  }\n",
              "\n",
              "  .colab-df-quickchart:hover {\n",
              "    background-color: var(--hover-bg-color);\n",
              "    box-shadow: 0 1px 2px rgba(60, 64, 67, 0.3), 0 1px 3px 1px rgba(60, 64, 67, 0.15);\n",
              "    fill: var(--button-hover-fill-color);\n",
              "  }\n",
              "\n",
              "  .colab-df-quickchart-complete:disabled,\n",
              "  .colab-df-quickchart-complete:disabled:hover {\n",
              "    background-color: var(--disabled-bg-color);\n",
              "    fill: var(--disabled-fill-color);\n",
              "    box-shadow: none;\n",
              "  }\n",
              "\n",
              "  .colab-df-spinner {\n",
              "    border: 2px solid var(--fill-color);\n",
              "    border-color: transparent;\n",
              "    border-bottom-color: var(--fill-color);\n",
              "    animation:\n",
              "      spin 1s steps(1) infinite;\n",
              "  }\n",
              "\n",
              "  @keyframes spin {\n",
              "    0% {\n",
              "      border-color: transparent;\n",
              "      border-bottom-color: var(--fill-color);\n",
              "      border-left-color: var(--fill-color);\n",
              "    }\n",
              "    20% {\n",
              "      border-color: transparent;\n",
              "      border-left-color: var(--fill-color);\n",
              "      border-top-color: var(--fill-color);\n",
              "    }\n",
              "    30% {\n",
              "      border-color: transparent;\n",
              "      border-left-color: var(--fill-color);\n",
              "      border-top-color: var(--fill-color);\n",
              "      border-right-color: var(--fill-color);\n",
              "    }\n",
              "    40% {\n",
              "      border-color: transparent;\n",
              "      border-right-color: var(--fill-color);\n",
              "      border-top-color: var(--fill-color);\n",
              "    }\n",
              "    60% {\n",
              "      border-color: transparent;\n",
              "      border-right-color: var(--fill-color);\n",
              "    }\n",
              "    80% {\n",
              "      border-color: transparent;\n",
              "      border-right-color: var(--fill-color);\n",
              "      border-bottom-color: var(--fill-color);\n",
              "    }\n",
              "    90% {\n",
              "      border-color: transparent;\n",
              "      border-bottom-color: var(--fill-color);\n",
              "    }\n",
              "  }\n",
              "</style>\n",
              "\n",
              "  <script>\n",
              "    async function quickchart(key) {\n",
              "      const quickchartButtonEl =\n",
              "        document.querySelector('#' + key + ' button');\n",
              "      quickchartButtonEl.disabled = true;  // To prevent multiple clicks.\n",
              "      quickchartButtonEl.classList.add('colab-df-spinner');\n",
              "      try {\n",
              "        const charts = await google.colab.kernel.invokeFunction(\n",
              "            'suggestCharts', [key], {});\n",
              "      } catch (error) {\n",
              "        console.error('Error during call to suggestCharts:', error);\n",
              "      }\n",
              "      quickchartButtonEl.classList.remove('colab-df-spinner');\n",
              "      quickchartButtonEl.classList.add('colab-df-quickchart-complete');\n",
              "    }\n",
              "    (() => {\n",
              "      let quickchartButtonEl =\n",
              "        document.querySelector('#df-be229e8a-1b71-4f11-93d6-5ebd8aa85de5 button');\n",
              "      quickchartButtonEl.style.display =\n",
              "        google.colab.kernel.accessAllowed ? 'block' : 'none';\n",
              "    })();\n",
              "  </script>\n",
              "</div>\n",
              "\n",
              "    </div>\n",
              "  </div>\n"
            ],
            "application/vnd.google.colaboratory.intrinsic+json": {
              "type": "dataframe",
              "summary": "{\n  \"name\": \"df\",\n  \"rows\": 15,\n  \"fields\": [\n    {\n      \"column\": \"count\",\n      \"properties\": {\n        \"dtype\": \"number\",\n        \"std\": 1666.2673626430794,\n        \"min\": 196403.0,\n        \"max\": 202216.0,\n        \"num_unique_values\": 4,\n        \"samples\": [\n          202198.0,\n          196403.0,\n          202216.0\n        ],\n        \"semantic_type\": \"\",\n        \"description\": \"\"\n      }\n    },\n    {\n      \"column\": \"mean\",\n      \"properties\": {\n        \"dtype\": \"number\",\n        \"std\": 7602368.833774967,\n        \"min\": 0.6284653538790205,\n        \"max\": 29485300.777144242,\n        \"num_unique_values\": 15,\n        \"samples\": [\n          7426.817939591478,\n          42.52773473040122,\n          29485300.777144242\n        ],\n        \"semantic_type\": \"\",\n        \"description\": \"\"\n      }\n    },\n    {\n      \"column\": \"std\",\n      \"properties\": {\n        \"dtype\": \"number\",\n        \"std\": 1372471.342317109,\n        \"min\": 0.40513609827992497,\n        \"max\": 5330974.419564824,\n        \"num_unique_values\": 15,\n        \"samples\": [\n          1984.1775620171074,\n          64.03196975656506,\n          5330974.419564824\n        ],\n        \"semantic_type\": \"\",\n        \"description\": \"\"\n      }\n    },\n    {\n      \"column\": \"min\",\n      \"properties\": {\n        \"dtype\": \"number\",\n        \"std\": 5236917.635159844,\n        \"min\": -800125.0,\n        \"max\": 20224123.0,\n        \"num_unique_values\": 11,\n        \"samples\": [\n          0.0,\n          20224123.0,\n          10646.0\n        ],\n        \"semantic_type\": \"\",\n        \"description\": \"\"\n      }\n    },\n    {\n      \"column\": \"25%\",\n      \"properties\": {\n        \"dtype\": \"number\",\n        \"std\": 6446624.0774593325,\n        \"min\": 0.0,\n        \"max\": 25000786.5,\n        \"num_unique_values\": 14,\n        \"samples\": [\n          12352.0,\n          5962.0,\n          25000786.5\n        ],\n        \"semantic_type\": \"\",\n        \"description\": \"\"\n      }\n    },\n    {\n      \"column\": \"50%\",\n      \"properties\": {\n        \"dtype\": \"number\",\n        \"std\": 7615223.034272066,\n        \"min\": 1.0,\n        \"max\": 29532952.5,\n        \"num_unique_values\": 13,\n        \"samples\": [\n          45778.0,\n          15.0,\n          29532952.5\n        ],\n        \"semantic_type\": \"\",\n        \"description\": \"\"\n      }\n    },\n    {\n      \"column\": \"75%\",\n      \"properties\": {\n        \"dtype\": \"number\",\n        \"std\": 8655764.302362852,\n        \"min\": 1.0,\n        \"max\": 33568471.5,\n        \"num_unique_values\": 13,\n        \"samples\": [\n          54254.0,\n          46.0,\n          33568471.5\n        ],\n        \"semantic_type\": \"\",\n        \"description\": \"\"\n      }\n    },\n    {\n      \"column\": \"max\",\n      \"properties\": {\n        \"dtype\": \"number\",\n        \"std\": 45113897.53376515,\n        \"min\": 1.0,\n        \"max\": 173301028.0,\n        \"num_unique_values\": 13,\n        \"samples\": [\n          69274.0,\n          14415.0,\n          38310281.0\n        ],\n        \"semantic_type\": \"\",\n        \"description\": \"\"\n      }\n    }\n  ]\n}"
            }
          },
          "metadata": {},
          "execution_count": 145
        }
      ],
      "source": [
        "df.describe().T"
      ]
    },
    {
      "cell_type": "code",
      "execution_count": null,
      "id": "4434ae04-3498-4dd7-999b-a2bc6092f935",
      "metadata": {
        "colab": {
          "base_uri": "https://localhost:8080/",
          "height": 711
        },
        "id": "4434ae04-3498-4dd7-999b-a2bc6092f935",
        "outputId": "bf3f0d08-65f9-4894-e0f7-3179b9c52bf9"
      },
      "outputs": [
        {
          "output_type": "execute_result",
          "data": {
            "text/plain": [
              "order_id                       0\n",
              "assignment_id                  0\n",
              "user_id                        0\n",
              "assistment_id                  0\n",
              "problem_id                     0\n",
              "original                       0\n",
              "correct                        0\n",
              "attempt_count                  0\n",
              "ms_first_response_time        18\n",
              "tutor_mode                     0\n",
              "answer_type                    0\n",
              "sequence_id                 2178\n",
              "student_class_id            2178\n",
              "position                    2178\n",
              "problem_set_type            2178\n",
              "base_sequence_id            2178\n",
              "list_skill_ids            115594\n",
              "list_skills               115594\n",
              "teacher_id                  2178\n",
              "school_id                   5813\n",
              "dtype: int64"
            ],
            "text/html": [
              "<div>\n",
              "<style scoped>\n",
              "    .dataframe tbody tr th:only-of-type {\n",
              "        vertical-align: middle;\n",
              "    }\n",
              "\n",
              "    .dataframe tbody tr th {\n",
              "        vertical-align: top;\n",
              "    }\n",
              "\n",
              "    .dataframe thead th {\n",
              "        text-align: right;\n",
              "    }\n",
              "</style>\n",
              "<table border=\"1\" class=\"dataframe\">\n",
              "  <thead>\n",
              "    <tr style=\"text-align: right;\">\n",
              "      <th></th>\n",
              "      <th>0</th>\n",
              "    </tr>\n",
              "  </thead>\n",
              "  <tbody>\n",
              "    <tr>\n",
              "      <th>order_id</th>\n",
              "      <td>0</td>\n",
              "    </tr>\n",
              "    <tr>\n",
              "      <th>assignment_id</th>\n",
              "      <td>0</td>\n",
              "    </tr>\n",
              "    <tr>\n",
              "      <th>user_id</th>\n",
              "      <td>0</td>\n",
              "    </tr>\n",
              "    <tr>\n",
              "      <th>assistment_id</th>\n",
              "      <td>0</td>\n",
              "    </tr>\n",
              "    <tr>\n",
              "      <th>problem_id</th>\n",
              "      <td>0</td>\n",
              "    </tr>\n",
              "    <tr>\n",
              "      <th>original</th>\n",
              "      <td>0</td>\n",
              "    </tr>\n",
              "    <tr>\n",
              "      <th>correct</th>\n",
              "      <td>0</td>\n",
              "    </tr>\n",
              "    <tr>\n",
              "      <th>attempt_count</th>\n",
              "      <td>0</td>\n",
              "    </tr>\n",
              "    <tr>\n",
              "      <th>ms_first_response_time</th>\n",
              "      <td>18</td>\n",
              "    </tr>\n",
              "    <tr>\n",
              "      <th>tutor_mode</th>\n",
              "      <td>0</td>\n",
              "    </tr>\n",
              "    <tr>\n",
              "      <th>answer_type</th>\n",
              "      <td>0</td>\n",
              "    </tr>\n",
              "    <tr>\n",
              "      <th>sequence_id</th>\n",
              "      <td>2178</td>\n",
              "    </tr>\n",
              "    <tr>\n",
              "      <th>student_class_id</th>\n",
              "      <td>2178</td>\n",
              "    </tr>\n",
              "    <tr>\n",
              "      <th>position</th>\n",
              "      <td>2178</td>\n",
              "    </tr>\n",
              "    <tr>\n",
              "      <th>problem_set_type</th>\n",
              "      <td>2178</td>\n",
              "    </tr>\n",
              "    <tr>\n",
              "      <th>base_sequence_id</th>\n",
              "      <td>2178</td>\n",
              "    </tr>\n",
              "    <tr>\n",
              "      <th>list_skill_ids</th>\n",
              "      <td>115594</td>\n",
              "    </tr>\n",
              "    <tr>\n",
              "      <th>list_skills</th>\n",
              "      <td>115594</td>\n",
              "    </tr>\n",
              "    <tr>\n",
              "      <th>teacher_id</th>\n",
              "      <td>2178</td>\n",
              "    </tr>\n",
              "    <tr>\n",
              "      <th>school_id</th>\n",
              "      <td>5813</td>\n",
              "    </tr>\n",
              "  </tbody>\n",
              "</table>\n",
              "</div><br><label><b>dtype:</b> int64</label>"
            ]
          },
          "metadata": {},
          "execution_count": 146
        }
      ],
      "source": [
        "df.isnull().sum()"
      ]
    },
    {
      "cell_type": "code",
      "execution_count": null,
      "id": "5e84b97e-532d-4dbb-8f62-d991197b431c",
      "metadata": {
        "id": "5e84b97e-532d-4dbb-8f62-d991197b431c"
      },
      "outputs": [],
      "source": [
        "df=df.drop('order_id',axis=1)"
      ]
    },
    {
      "cell_type": "code",
      "execution_count": null,
      "id": "38071ed5-3c6d-4946-8bc5-85dac0670d12",
      "metadata": {
        "colab": {
          "base_uri": "https://localhost:8080/",
          "height": 466
        },
        "id": "38071ed5-3c6d-4946-8bc5-85dac0670d12",
        "outputId": "27838855-9e15-4e9a-a1e6-b377236d9f5d"
      },
      "outputs": [
        {
          "output_type": "execute_result",
          "data": {
            "text/plain": [
              "<Axes: xlabel='correct', ylabel='count'>"
            ]
          },
          "metadata": {},
          "execution_count": 148
        },
        {
          "output_type": "display_data",
          "data": {
            "text/plain": [
              "<Figure size 640x480 with 1 Axes>"
            ],
            "image/png": "[encoded data removed]"
          },
          "metadata": {}
        }
      ],
      "source": [
        "sns.countplot(x='correct',data=df)"
      ]
    },
    {
      "cell_type": "code",
      "execution_count": null,
      "id": "e121dbd1-9d58-40ee-bc5b-60a20e881ba7",
      "metadata": {
        "id": "e121dbd1-9d58-40ee-bc5b-60a20e881ba7"
      },
      "outputs": [],
      "source": [
        "num_df=df.select_dtypes(include=['number'])"
      ]
    },
    {
      "cell_type": "code",
      "execution_count": null,
      "id": "918ee986-c889-4407-bf7a-4e2cc4821101",
      "metadata": {
        "id": "918ee986-c889-4407-bf7a-4e2cc4821101"
      },
      "outputs": [],
      "source": [
        "corr_mat=num_df.corr()"
      ]
    },
    {
      "cell_type": "code",
      "execution_count": null,
      "id": "3c73cc2e-24ce-4b09-9c35-e6a7682a9477",
      "metadata": {
        "colab": {
          "base_uri": "https://localhost:8080/",
          "height": 523
        },
        "id": "3c73cc2e-24ce-4b09-9c35-e6a7682a9477",
        "outputId": "5cdde5eb-8754-4897-892a-d160593d1825"
      },
      "outputs": [
        {
          "output_type": "execute_result",
          "data": {
            "text/plain": [
              "attempt_count            -0.128494\n",
              "ms_first_response_time   -0.004574\n",
              "user_id                   0.001562\n",
              "teacher_id                0.036811\n",
              "school_id                 0.039374\n",
              "student_class_id          0.043246\n",
              "base_sequence_id          0.052929\n",
              "assignment_id             0.056604\n",
              "position                  0.057420\n",
              "sequence_id               0.057958\n",
              "problem_id                0.087142\n",
              "assistment_id             0.093229\n",
              "original                  0.098075\n",
              "correct                   1.000000\n",
              "Name: correct, dtype: float64"
            ],
            "text/html": [
              "<div>\n",
              "<style scoped>\n",
              "    .dataframe tbody tr th:only-of-type {\n",
              "        vertical-align: middle;\n",
              "    }\n",
              "\n",
              "    .dataframe tbody tr th {\n",
              "        vertical-align: top;\n",
              "    }\n",
              "\n",
              "    .dataframe thead th {\n",
              "        text-align: right;\n",
              "    }\n",
              "</style>\n",
              "<table border=\"1\" class=\"dataframe\">\n",
              "  <thead>\n",
              "    <tr style=\"text-align: right;\">\n",
              "      <th></th>\n",
              "      <th>correct</th>\n",
              "    </tr>\n",
              "  </thead>\n",
              "  <tbody>\n",
              "    <tr>\n",
              "      <th>attempt_count</th>\n",
              "      <td>-0.128494</td>\n",
              "    </tr>\n",
              "    <tr>\n",
              "      <th>ms_first_response_time</th>\n",
              "      <td>-0.004574</td>\n",
              "    </tr>\n",
              "    <tr>\n",
              "      <th>user_id</th>\n",
              "      <td>0.001562</td>\n",
              "    </tr>\n",
              "    <tr>\n",
              "      <th>teacher_id</th>\n",
              "      <td>0.036811</td>\n",
              "    </tr>\n",
              "    <tr>\n",
              "      <th>school_id</th>\n",
              "      <td>0.039374</td>\n",
              "    </tr>\n",
              "    <tr>\n",
              "      <th>student_class_id</th>\n",
              "      <td>0.043246</td>\n",
              "    </tr>\n",
              "    <tr>\n",
              "      <th>base_sequence_id</th>\n",
              "      <td>0.052929</td>\n",
              "    </tr>\n",
              "    <tr>\n",
              "      <th>assignment_id</th>\n",
              "      <td>0.056604</td>\n",
              "    </tr>\n",
              "    <tr>\n",
              "      <th>position</th>\n",
              "      <td>0.057420</td>\n",
              "    </tr>\n",
              "    <tr>\n",
              "      <th>sequence_id</th>\n",
              "      <td>0.057958</td>\n",
              "    </tr>\n",
              "    <tr>\n",
              "      <th>problem_id</th>\n",
              "      <td>0.087142</td>\n",
              "    </tr>\n",
              "    <tr>\n",
              "      <th>assistment_id</th>\n",
              "      <td>0.093229</td>\n",
              "    </tr>\n",
              "    <tr>\n",
              "      <th>original</th>\n",
              "      <td>0.098075</td>\n",
              "    </tr>\n",
              "    <tr>\n",
              "      <th>correct</th>\n",
              "      <td>1.000000</td>\n",
              "    </tr>\n",
              "  </tbody>\n",
              "</table>\n",
              "</div><br><label><b>dtype:</b> float64</label>"
            ]
          },
          "metadata": {},
          "execution_count": 151
        }
      ],
      "source": [
        "corr_mat['correct'].sort_values()"
      ]
    },
    {
      "cell_type": "code",
      "execution_count": null,
      "id": "00a940d7-2b24-45cc-be8a-22c39a63afb5",
      "metadata": {
        "colab": {
          "base_uri": "https://localhost:8080/",
          "height": 272
        },
        "id": "00a940d7-2b24-45cc-be8a-22c39a63afb5",
        "outputId": "f331c9ee-aa32-419b-8369-02b2f45986c0"
      },
      "outputs": [
        {
          "output_type": "execute_result",
          "data": {
            "text/plain": [
              "tutor_mode\n",
              "tutor     166527\n",
              "test       30569\n",
              "pre         4221\n",
              "post         837\n",
              "survey        62\n",
              "Name: count, dtype: int64"
            ],
            "text/html": [
              "<div>\n",
              "<style scoped>\n",
              "    .dataframe tbody tr th:only-of-type {\n",
              "        vertical-align: middle;\n",
              "    }\n",
              "\n",
              "    .dataframe tbody tr th {\n",
              "        vertical-align: top;\n",
              "    }\n",
              "\n",
              "    .dataframe thead th {\n",
              "        text-align: right;\n",
              "    }\n",
              "</style>\n",
              "<table border=\"1\" class=\"dataframe\">\n",
              "  <thead>\n",
              "    <tr style=\"text-align: right;\">\n",
              "      <th></th>\n",
              "      <th>count</th>\n",
              "    </tr>\n",
              "    <tr>\n",
              "      <th>tutor_mode</th>\n",
              "      <th></th>\n",
              "    </tr>\n",
              "  </thead>\n",
              "  <tbody>\n",
              "    <tr>\n",
              "      <th>tutor</th>\n",
              "      <td>166527</td>\n",
              "    </tr>\n",
              "    <tr>\n",
              "      <th>test</th>\n",
              "      <td>30569</td>\n",
              "    </tr>\n",
              "    <tr>\n",
              "      <th>pre</th>\n",
              "      <td>4221</td>\n",
              "    </tr>\n",
              "    <tr>\n",
              "      <th>post</th>\n",
              "      <td>837</td>\n",
              "    </tr>\n",
              "    <tr>\n",
              "      <th>survey</th>\n",
              "      <td>62</td>\n",
              "    </tr>\n",
              "  </tbody>\n",
              "</table>\n",
              "</div><br><label><b>dtype:</b> int64</label>"
            ]
          },
          "metadata": {},
          "execution_count": 152
        }
      ],
      "source": [
        "df['tutor_mode'].value_counts()"
      ]
    },
    {
      "cell_type": "code",
      "execution_count": null,
      "id": "28240723-d085-43d1-9aba-8b568c1d4643",
      "metadata": {
        "colab": {
          "base_uri": "https://localhost:8080/"
        },
        "id": "28240723-d085-43d1-9aba-8b568c1d4643",
        "outputId": "2b3dc3a5-3fa3-4db7-eb27-4dfe7a1880e8"
      },
      "outputs": [
        {
          "output_type": "execute_result",
          "data": {
            "text/plain": [
              "202216"
            ]
          },
          "metadata": {},
          "execution_count": 153
        }
      ],
      "source": [
        "len(df['tutor_mode'])"
      ]
    },
    {
      "cell_type": "code",
      "execution_count": null,
      "id": "b5566d69-e35d-4685-804b-953fade7f518",
      "metadata": {
        "colab": {
          "base_uri": "https://localhost:8080/",
          "height": 467
        },
        "id": "b5566d69-e35d-4685-804b-953fade7f518",
        "outputId": "258c1526-8997-4813-c499-5b5355aa86ae"
      },
      "outputs": [
        {
          "output_type": "execute_result",
          "data": {
            "text/plain": [
              "<Axes: xlabel='tutor_mode', ylabel='count'>"
            ]
          },
          "metadata": {},
          "execution_count": 154
        },
        {
          "output_type": "display_data",
          "data": {
            "text/plain": [
              "<Figure size 640x480 with 1 Axes>"
            ],
            "image/png": "[encoded data removed]"
          },
          "metadata": {}
        }
      ],
      "source": [
        "sns.countplot(x='tutor_mode',hue='correct',data=df)"
      ]
    },
    {
      "cell_type": "code",
      "execution_count": null,
      "id": "4ebc2369-15d2-48ac-8587-17649ab9f206",
      "metadata": {
        "colab": {
          "base_uri": "https://localhost:8080/"
        },
        "id": "4ebc2369-15d2-48ac-8587-17649ab9f206",
        "outputId": "ce2da644-acda-40a9-a7d3-58d9b242af28"
      },
      "outputs": [
        {
          "output_type": "execute_result",
          "data": {
            "text/plain": [
              "115594"
            ]
          },
          "metadata": {},
          "execution_count": 155
        }
      ],
      "source": [
        "df['list_skill_ids'].isnull().sum()"
      ]
    },
    {
      "cell_type": "code",
      "execution_count": null,
      "id": "f187c2d3-78cf-4b7f-8baf-f91987a88a6d",
      "metadata": {
        "id": "f187c2d3-78cf-4b7f-8baf-f91987a88a6d"
      },
      "outputs": [],
      "source": [
        "df['tutor_mode']=df['tutor_mode'].replace(['survey','post','pre'],'OTHER')"
      ]
    },
    {
      "cell_type": "code",
      "execution_count": null,
      "id": "f8334081-0b93-4cfc-af5d-883e6fddab13",
      "metadata": {
        "colab": {
          "base_uri": "https://localhost:8080/",
          "height": 209
        },
        "id": "f8334081-0b93-4cfc-af5d-883e6fddab13",
        "outputId": "ca1c4609-fc1a-417b-c9cb-c72dc27891ca"
      },
      "outputs": [
        {
          "output_type": "execute_result",
          "data": {
            "text/plain": [
              "tutor_mode\n",
              "tutor    166527\n",
              "test      30569\n",
              "OTHER      5120\n",
              "Name: count, dtype: int64"
            ],
            "text/html": [
              "<div>\n",
              "<style scoped>\n",
              "    .dataframe tbody tr th:only-of-type {\n",
              "        vertical-align: middle;\n",
              "    }\n",
              "\n",
              "    .dataframe tbody tr th {\n",
              "        vertical-align: top;\n",
              "    }\n",
              "\n",
              "    .dataframe thead th {\n",
              "        text-align: right;\n",
              "    }\n",
              "</style>\n",
              "<table border=\"1\" class=\"dataframe\">\n",
              "  <thead>\n",
              "    <tr style=\"text-align: right;\">\n",
              "      <th></th>\n",
              "      <th>count</th>\n",
              "    </tr>\n",
              "    <tr>\n",
              "      <th>tutor_mode</th>\n",
              "      <th></th>\n",
              "    </tr>\n",
              "  </thead>\n",
              "  <tbody>\n",
              "    <tr>\n",
              "      <th>tutor</th>\n",
              "      <td>166527</td>\n",
              "    </tr>\n",
              "    <tr>\n",
              "      <th>test</th>\n",
              "      <td>30569</td>\n",
              "    </tr>\n",
              "    <tr>\n",
              "      <th>OTHER</th>\n",
              "      <td>5120</td>\n",
              "    </tr>\n",
              "  </tbody>\n",
              "</table>\n",
              "</div><br><label><b>dtype:</b> int64</label>"
            ]
          },
          "metadata": {},
          "execution_count": 157
        }
      ],
      "source": [
        "df['tutor_mode'].value_counts()"
      ]
    },
    {
      "cell_type": "code",
      "execution_count": null,
      "id": "b59e27a8-0ea3-45cf-a346-8c19a4dbc0a3",
      "metadata": {
        "colab": {
          "base_uri": "https://localhost:8080/",
          "height": 334
        },
        "id": "b59e27a8-0ea3-45cf-a346-8c19a4dbc0a3",
        "outputId": "b22e75df-a811-45ed-8e87-4ca426d9e2ac"
      },
      "outputs": [
        {
          "output_type": "execute_result",
          "data": {
            "text/plain": [
              "<Axes: xlabel='answer_type', ylabel='count'>"
            ]
          },
          "metadata": {},
          "execution_count": 158
        },
        {
          "output_type": "display_data",
          "data": {
            "text/plain": [
              "<Figure size 1200x400 with 1 Axes>"
            ],
            "image/png": "[encoded data removed]"
          },
          "metadata": {}
        }
      ],
      "source": [
        "plt.figure(figsize=(12,4))\n",
        "sns.countplot(x='answer_type',hue='correct',data=df)"
      ]
    },
    {
      "cell_type": "code",
      "execution_count": null,
      "id": "0557744a-9726-43ed-89b1-618d25f13798",
      "metadata": {
        "id": "0557744a-9726-43ed-89b1-618d25f13798"
      },
      "outputs": [],
      "source": [
        "answer_counts=df.groupby(['answer_type','correct']).size().unstack(fill_value=0)"
      ]
    },
    {
      "cell_type": "code",
      "execution_count": null,
      "id": "a1cbb353-1e58-49fe-aff5-502e3da280e8",
      "metadata": {
        "id": "a1cbb353-1e58-49fe-aff5-502e3da280e8"
      },
      "outputs": [],
      "source": [
        "answer_counts['correct_percentage'] = (answer_counts[1] / answer_counts.sum(axis=1)) * 100\n",
        "answer_counts['incorrect_percentage'] = (answer_counts[0] / answer_counts.sum(axis=1)) * 100"
      ]
    },
    {
      "cell_type": "code",
      "execution_count": null,
      "id": "9ff0418b-ac6f-4b07-b394-6c72010c29d9",
      "metadata": {
        "colab": {
          "base_uri": "https://localhost:8080/",
          "height": 257
        },
        "id": "9ff0418b-ac6f-4b07-b394-6c72010c29d9",
        "outputId": "a408d22d-f24e-440c-fa06-47bd2e4e99c7"
      },
      "outputs": [
        {
          "output_type": "execute_result",
          "data": {
            "text/plain": [
              "correct        0.0  0.125  0.25  0.375  0.5  0.625  0.75  0.875    1.0  \\\n",
              "answer_type                                                              \n",
              "algebra      46539      0     0      0    1      0     1      0  69147   \n",
              "choose_1     16975      0     0      0    0      0     0      0  44460   \n",
              "choose_n       829      0     0      0    0      0     0      0    306   \n",
              "external         5      0     0      0    0      0     0      0      2   \n",
              "fill_in_1    10274      0     0      0    0      0     0      0  12706   \n",
              "\n",
              "correct      correct_percentage  incorrect_percentage  \n",
              "answer_type                                            \n",
              "algebra               59.770244             40.207254  \n",
              "choose_1              72.369171             27.598319  \n",
              "choose_n              26.960352             71.344947  \n",
              "external              28.571429             14.056225  \n",
              "fill_in_1             55.291558             44.601129  "
            ],
            "text/html": [
              "\n",
              "  <div id=\"df-619ee61e-efd7-4e7c-9265-56750c4a3cda\" class=\"colab-df-container\">\n",
              "    <div>\n",
              "<style scoped>\n",
              "    .dataframe tbody tr th:only-of-type {\n",
              "        vertical-align: middle;\n",
              "    }\n",
              "\n",
              "    .dataframe tbody tr th {\n",
              "        vertical-align: top;\n",
              "    }\n",
              "\n",
              "    .dataframe thead th {\n",
              "        text-align: right;\n",
              "    }\n",
              "</style>\n",
              "<table border=\"1\" class=\"dataframe\">\n",
              "  <thead>\n",
              "    <tr style=\"text-align: right;\">\n",
              "      <th>correct</th>\n",
              "      <th>0.0</th>\n",
              "      <th>0.125</th>\n",
              "      <th>0.25</th>\n",
              "      <th>0.375</th>\n",
              "      <th>0.5</th>\n",
              "      <th>0.625</th>\n",
              "      <th>0.75</th>\n",
              "      <th>0.875</th>\n",
              "      <th>1.0</th>\n",
              "      <th>correct_percentage</th>\n",
              "      <th>incorrect_percentage</th>\n",
              "    </tr>\n",
              "    <tr>\n",
              "      <th>answer_type</th>\n",
              "      <th></th>\n",
              "      <th></th>\n",
              "      <th></th>\n",
              "      <th></th>\n",
              "      <th></th>\n",
              "      <th></th>\n",
              "      <th></th>\n",
              "      <th></th>\n",
              "      <th></th>\n",
              "      <th></th>\n",
              "      <th></th>\n",
              "    </tr>\n",
              "  </thead>\n",
              "  <tbody>\n",
              "    <tr>\n",
              "      <th>algebra</th>\n",
              "      <td>46539</td>\n",
              "      <td>0</td>\n",
              "      <td>0</td>\n",
              "      <td>0</td>\n",
              "      <td>1</td>\n",
              "      <td>0</td>\n",
              "      <td>1</td>\n",
              "      <td>0</td>\n",
              "      <td>69147</td>\n",
              "      <td>59.770244</td>\n",
              "      <td>40.207254</td>\n",
              "    </tr>\n",
              "    <tr>\n",
              "      <th>choose_1</th>\n",
              "      <td>16975</td>\n",
              "      <td>0</td>\n",
              "      <td>0</td>\n",
              "      <td>0</td>\n",
              "      <td>0</td>\n",
              "      <td>0</td>\n",
              "      <td>0</td>\n",
              "      <td>0</td>\n",
              "      <td>44460</td>\n",
              "      <td>72.369171</td>\n",
              "      <td>27.598319</td>\n",
              "    </tr>\n",
              "    <tr>\n",
              "      <th>choose_n</th>\n",
              "      <td>829</td>\n",
              "      <td>0</td>\n",
              "      <td>0</td>\n",
              "      <td>0</td>\n",
              "      <td>0</td>\n",
              "      <td>0</td>\n",
              "      <td>0</td>\n",
              "      <td>0</td>\n",
              "      <td>306</td>\n",
              "      <td>26.960352</td>\n",
              "      <td>71.344947</td>\n",
              "    </tr>\n",
              "    <tr>\n",
              "      <th>external</th>\n",
              "      <td>5</td>\n",
              "      <td>0</td>\n",
              "      <td>0</td>\n",
              "      <td>0</td>\n",
              "      <td>0</td>\n",
              "      <td>0</td>\n",
              "      <td>0</td>\n",
              "      <td>0</td>\n",
              "      <td>2</td>\n",
              "      <td>28.571429</td>\n",
              "      <td>14.056225</td>\n",
              "    </tr>\n",
              "    <tr>\n",
              "      <th>fill_in_1</th>\n",
              "      <td>10274</td>\n",
              "      <td>0</td>\n",
              "      <td>0</td>\n",
              "      <td>0</td>\n",
              "      <td>0</td>\n",
              "      <td>0</td>\n",
              "      <td>0</td>\n",
              "      <td>0</td>\n",
              "      <td>12706</td>\n",
              "      <td>55.291558</td>\n",
              "      <td>44.601129</td>\n",
              "    </tr>\n",
              "  </tbody>\n",
              "</table>\n",
              "</div>\n",
              "    <div class=\"colab-df-buttons\">\n",
              "\n",
              "  <div class=\"colab-df-container\">\n",
              "    <button class=\"colab-df-convert\" onclick=\"convertToInteractive('df-619ee61e-efd7-4e7c-9265-56750c4a3cda')\"\n",
              "            title=\"Convert this dataframe to an interactive table.\"\n",
              "            style=\"display:none;\">\n",
              "\n",
              "  <svg xmlns=\"http://www.w3.org/2000/svg\" height=\"24px\" viewBox=\"0 -960 960 960\">\n",
              "    <path d=\"M120-120v-720h720v720H120Zm60-500h600v-160H180v160Zm220 220h160v-160H400v160Zm0 220h160v-160H400v160ZM180-400h160v-160H180v160Zm440 0h160v-160H620v160ZM180-180h160v-160H180v160Zm440 0h160v-160H620v160Z\"/>\n",
              "  </svg>\n",
              "    </button>\n",
              "\n",
              "  <style>\n",
              "    .colab-df-container {\n",
              "      display:flex;\n",
              "      gap: 12px;\n",
              "    }\n",
              "\n",
              "    .colab-df-convert {\n",
              "      background-color: #E8F0FE;\n",
              "      border: none;\n",
              "      border-radius: 50%;\n",
              "      cursor: pointer;\n",
              "      display: none;\n",
              "      fill: #1967D2;\n",
              "      height: 32px;\n",
              "      padding: 0 0 0 0;\n",
              "      width: 32px;\n",
              "    }\n",
              "\n",
              "    .colab-df-convert:hover {\n",
              "      background-color: #E2EBFA;\n",
              "      box-shadow: 0px 1px 2px rgba(60, 64, 67, 0.3), 0px 1px 3px 1px rgba(60, 64, 67, 0.15);\n",
              "      fill: #174EA6;\n",
              "    }\n",
              "\n",
              "    .colab-df-buttons div {\n",
              "      margin-bottom: 4px;\n",
              "    }\n",
              "\n",
              "    [theme=dark] .colab-df-convert {\n",
              "      background-color: #3B4455;\n",
              "      fill: #D2E3FC;\n",
              "    }\n",
              "\n",
              "    [theme=dark] .colab-df-convert:hover {\n",
              "      background-color: #434B5C;\n",
              "      box-shadow: 0px 1px 3px 1px rgba(0, 0, 0, 0.15);\n",
              "      filter: drop-shadow(0px 1px 2px rgba(0, 0, 0, 0.3));\n",
              "      fill: #FFFFFF;\n",
              "    }\n",
              "  </style>\n",
              "\n",
              "    <script>\n",
              "      const buttonEl =\n",
              "        document.querySelector('#df-619ee61e-efd7-4e7c-9265-56750c4a3cda button.colab-df-convert');\n",
              "      buttonEl.style.display =\n",
              "        google.colab.kernel.accessAllowed ? 'block' : 'none';\n",
              "\n",
              "      async function convertToInteractive(key) {\n",
              "        const element = document.querySelector('#df-619ee61e-efd7-4e7c-9265-56750c4a3cda');\n",
              "        const dataTable =\n",
              "          await google.colab.kernel.invokeFunction('convertToInteractive',\n",
              "                                                    [key], {});\n",
              "        if (!dataTable) return;\n",
              "\n",
              "        const docLinkHtml = 'Like what you see? Visit the ' +\n",
              "          '<a target=\"_blank\" href=https://colab.research.google.com/notebooks/data_table.ipynb>data table notebook</a>'\n",
              "          + ' to learn more about interactive tables.';\n",
              "        element.innerHTML = '';\n",
              "        dataTable['output_type'] = 'display_data';\n",
              "        await google.colab.output.renderOutput(dataTable, element);\n",
              "        const docLink = document.createElement('div');\n",
              "        docLink.innerHTML = docLinkHtml;\n",
              "        element.appendChild(docLink);\n",
              "      }\n",
              "    </script>\n",
              "  </div>\n",
              "\n",
              "\n",
              "<div id=\"df-b6aaf634-d7e5-4e0d-b1ff-350c1fc3054b\">\n",
              "  <button class=\"colab-df-quickchart\" onclick=\"quickchart('df-b6aaf634-d7e5-4e0d-b1ff-350c1fc3054b')\"\n",
              "            title=\"Suggest charts\"\n",
              "            style=\"display:none;\">\n",
              "\n",
              "<svg xmlns=\"http://www.w3.org/2000/svg\" height=\"24px\"viewBox=\"0 0 24 24\"\n",
              "     width=\"24px\">\n",
              "    <g>\n",
              "        <path d=\"M19 3H5c-1.1 0-2 .9-2 2v14c0 1.1.9 2 2 2h14c1.1 0 2-.9 2-2V5c0-1.1-.9-2-2-2zM9 17H7v-7h2v7zm4 0h-2V7h2v10zm4 0h-2v-4h2v4z\"/>\n",
              "    </g>\n",
              "</svg>\n",
              "  </button>\n",
              "\n",
              "<style>\n",
              "  .colab-df-quickchart {\n",
              "      --bg-color: #E8F0FE;\n",
              "      --fill-color: #1967D2;\n",
              "      --hover-bg-color: #E2EBFA;\n",
              "      --hover-fill-color: #174EA6;\n",
              "      --disabled-fill-color: #AAA;\n",
              "      --disabled-bg-color: #DDD;\n",
              "  }\n",
              "\n",
              "  [theme=dark] .colab-df-quickchart {\n",
              "      --bg-color: #3B4455;\n",
              "      --fill-color: #D2E3FC;\n",
              "      --hover-bg-color: #434B5C;\n",
              "      --hover-fill-color: #FFFFFF;\n",
              "      --disabled-bg-color: #3B4455;\n",
              "      --disabled-fill-color: #666;\n",
              "  }\n",
              "\n",
              "  .colab-df-quickchart {\n",
              "    background-color: var(--bg-color);\n",
              "    border: none;\n",
              "    border-radius: 50%;\n",
              "    cursor: pointer;\n",
              "    display: none;\n",
              "    fill: var(--fill-color);\n",
              "    height: 32px;\n",
              "    padding: 0;\n",
              "    width: 32px;\n",
              "  }\n",
              "\n",
              "  .colab-df-quickchart:hover {\n",
              "    background-color: var(--hover-bg-color);\n",
              "    box-shadow: 0 1px 2px rgba(60, 64, 67, 0.3), 0 1px 3px 1px rgba(60, 64, 67, 0.15);\n",
              "    fill: var(--button-hover-fill-color);\n",
              "  }\n",
              "\n",
              "  .colab-df-quickchart-complete:disabled,\n",
              "  .colab-df-quickchart-complete:disabled:hover {\n",
              "    background-color: var(--disabled-bg-color);\n",
              "    fill: var(--disabled-fill-color);\n",
              "    box-shadow: none;\n",
              "  }\n",
              "\n",
              "  .colab-df-spinner {\n",
              "    border: 2px solid var(--fill-color);\n",
              "    border-color: transparent;\n",
              "    border-bottom-color: var(--fill-color);\n",
              "    animation:\n",
              "      spin 1s steps(1) infinite;\n",
              "  }\n",
              "\n",
              "  @keyframes spin {\n",
              "    0% {\n",
              "      border-color: transparent;\n",
              "      border-bottom-color: var(--fill-color);\n",
              "      border-left-color: var(--fill-color);\n",
              "    }\n",
              "    20% {\n",
              "      border-color: transparent;\n",
              "      border-left-color: var(--fill-color);\n",
              "      border-top-color: var(--fill-color);\n",
              "    }\n",
              "    30% {\n",
              "      border-color: transparent;\n",
              "      border-left-color: var(--fill-color);\n",
              "      border-top-color: var(--fill-color);\n",
              "      border-right-color: var(--fill-color);\n",
              "    }\n",
              "    40% {\n",
              "      border-color: transparent;\n",
              "      border-right-color: var(--fill-color);\n",
              "      border-top-color: var(--fill-color);\n",
              "    }\n",
              "    60% {\n",
              "      border-color: transparent;\n",
              "      border-right-color: var(--fill-color);\n",
              "    }\n",
              "    80% {\n",
              "      border-color: transparent;\n",
              "      border-right-color: var(--fill-color);\n",
              "      border-bottom-color: var(--fill-color);\n",
              "    }\n",
              "    90% {\n",
              "      border-color: transparent;\n",
              "      border-bottom-color: var(--fill-color);\n",
              "    }\n",
              "  }\n",
              "</style>\n",
              "\n",
              "  <script>\n",
              "    async function quickchart(key) {\n",
              "      const quickchartButtonEl =\n",
              "        document.querySelector('#' + key + ' button');\n",
              "      quickchartButtonEl.disabled = true;  // To prevent multiple clicks.\n",
              "      quickchartButtonEl.classList.add('colab-df-spinner');\n",
              "      try {\n",
              "        const charts = await google.colab.kernel.invokeFunction(\n",
              "            'suggestCharts', [key], {});\n",
              "      } catch (error) {\n",
              "        console.error('Error during call to suggestCharts:', error);\n",
              "      }\n",
              "      quickchartButtonEl.classList.remove('colab-df-spinner');\n",
              "      quickchartButtonEl.classList.add('colab-df-quickchart-complete');\n",
              "    }\n",
              "    (() => {\n",
              "      let quickchartButtonEl =\n",
              "        document.querySelector('#df-b6aaf634-d7e5-4e0d-b1ff-350c1fc3054b button');\n",
              "      quickchartButtonEl.style.display =\n",
              "        google.colab.kernel.accessAllowed ? 'block' : 'none';\n",
              "    })();\n",
              "  </script>\n",
              "</div>\n",
              "\n",
              "    </div>\n",
              "  </div>\n"
            ],
            "application/vnd.google.colaboratory.intrinsic+json": {
              "type": "dataframe",
              "variable_name": "answer_counts",
              "summary": "{\n  \"name\": \"answer_counts\",\n  \"rows\": 7,\n  \"fields\": [\n    {\n      \"column\": \"answer_type\",\n      \"properties\": {\n        \"dtype\": \"string\",\n        \"num_unique_values\": 7,\n        \"samples\": [\n          \"algebra\",\n          \"choose_1\",\n          \"open_response\"\n        ],\n        \"semantic_type\": \"\",\n        \"description\": \"\"\n      }\n    },\n    {\n      \"column\": 0.0,\n      \"properties\": {\n        \"dtype\": \"number\",\n        \"std\": 17105,\n        \"min\": 5,\n        \"max\": 46539,\n        \"num_unique_values\": 7,\n        \"samples\": [\n          46539,\n          16975,\n          292\n        ],\n        \"semantic_type\": \"\",\n        \"description\": \"\"\n      }\n    },\n    {\n      \"column\": 0.125,\n      \"properties\": {\n        \"dtype\": \"number\",\n        \"std\": 0,\n        \"min\": 0,\n        \"max\": 1,\n        \"num_unique_values\": 2,\n        \"samples\": [\n          1,\n          0\n        ],\n        \"semantic_type\": \"\",\n        \"description\": \"\"\n      }\n    },\n    {\n      \"column\": 0.25,\n      \"properties\": {\n        \"dtype\": \"number\",\n        \"std\": 13,\n        \"min\": 0,\n        \"max\": 35,\n        \"num_unique_values\": 2,\n        \"samples\": [\n          35,\n          0\n        ],\n        \"semantic_type\": \"\",\n        \"description\": \"\"\n      }\n    },\n    {\n      \"column\": 0.375,\n      \"properties\": {\n        \"dtype\": \"number\",\n        \"std\": 0,\n        \"min\": 0,\n        \"max\": 2,\n        \"num_unique_values\": 2,\n        \"samples\": [\n          2,\n          0\n        ],\n        \"semantic_type\": \"\",\n        \"description\": \"\"\n      }\n    },\n    {\n      \"column\": 0.5,\n      \"properties\": {\n        \"dtype\": \"number\",\n        \"std\": 17,\n        \"min\": 0,\n        \"max\": 46,\n        \"num_unique_values\": 3,\n        \"samples\": [\n          1,\n          0\n        ],\n        \"semantic_type\": \"\",\n        \"description\": \"\"\n      }\n    },\n    {\n      \"column\": 0.625,\n      \"properties\": {\n        \"dtype\": \"number\",\n        \"std\": 1,\n        \"min\": 0,\n        \"max\": 4,\n        \"num_unique_values\": 2,\n        \"samples\": [\n          4,\n          0\n        ],\n        \"semantic_type\": \"\",\n        \"description\": \"\"\n      }\n    },\n    {\n      \"column\": 0.75,\n      \"properties\": {\n        \"dtype\": \"number\",\n        \"std\": 22,\n        \"min\": 0,\n        \"max\": 59,\n        \"num_unique_values\": 3,\n        \"samples\": [\n          1,\n          0\n        ],\n        \"semantic_type\": \"\",\n        \"description\": \"\"\n      }\n    },\n    {\n      \"column\": 0.875,\n      \"properties\": {\n        \"dtype\": \"number\",\n        \"std\": 5,\n        \"min\": 0,\n        \"max\": 15,\n        \"num_unique_values\": 2,\n        \"samples\": [\n          15,\n          0\n        ],\n        \"semantic_type\": \"\",\n        \"description\": \"\"\n      }\n    },\n    {\n      \"column\": 1.0,\n      \"properties\": {\n        \"dtype\": \"number\",\n        \"std\": 27736,\n        \"min\": 2,\n        \"max\": 69147,\n        \"num_unique_values\": 7,\n        \"samples\": [\n          69147,\n          44460\n        ],\n        \"semantic_type\": \"\",\n        \"description\": \"\"\n      }\n    },\n    {\n      \"column\": \"correct_percentage\",\n      \"properties\": {\n        \"dtype\": \"number\",\n        \"std\": 17.235570397368893,\n        \"min\": 26.96035242290749,\n        \"max\": 72.36917066818589,\n        \"num_unique_values\": 7,\n        \"samples\": [\n          59.770244104833694,\n          72.36917066818589\n        ],\n        \"semantic_type\": \"\",\n        \"description\": \"\"\n      }\n    },\n    {\n      \"column\": \"incorrect_percentage\",\n      \"properties\": {\n        \"dtype\": \"number\",\n        \"std\": 17.5483286083913,\n        \"min\": 14.056224899598394,\n        \"max\": 71.34494720679392,\n        \"num_unique_values\": 7,\n        \"samples\": [\n          40.207254016083546,\n          27.59831907766767\n        ],\n        \"semantic_type\": \"\",\n        \"description\": \"\"\n      }\n    }\n  ]\n}"
            }
          },
          "metadata": {},
          "execution_count": 161
        }
      ],
      "source": [
        "answer_counts.head()"
      ]
    },
    {
      "cell_type": "code",
      "execution_count": null,
      "id": "b16787dc-ea6f-4620-80e7-77b465dee0e9",
      "metadata": {
        "id": "b16787dc-ea6f-4620-80e7-77b465dee0e9"
      },
      "outputs": [],
      "source": [
        "# plt.figure(figsize=(12,4))\n",
        "# sns.barplot(x='correct_percentage',y='incorrect_percentage',data=answer_counts)\n"
      ]
    },
    {
      "cell_type": "code",
      "execution_count": null,
      "id": "9985dec6-8c7d-4cab-838f-5e47697431eb",
      "metadata": {
        "colab": {
          "base_uri": "https://localhost:8080/",
          "height": 486
        },
        "id": "9985dec6-8c7d-4cab-838f-5e47697431eb",
        "outputId": "d07bd428-55e8-4aa8-aea4-1bf82d62dd53"
      },
      "outputs": [
        {
          "output_type": "display_data",
          "data": {
            "text/plain": [
              "<Figure size 640x480 with 1 Axes>"
            ],
            "image/png": "[encoded data removed]"
          },
          "metadata": {}
        }
      ],
      "source": [
        "sns.barplot(x='answer_type', y='correct_percentage', data=answer_counts, color='green', label='Correct')\n",
        "sns.barplot(x='answer_type', y='incorrect_percentage', data=answer_counts, color='red', label='Incorrect')\n",
        "\n",
        "# Customize the plot\n",
        "plt.title('Percentage of Correct and Incorrect Answers by Answer Type', fontsize=16)\n",
        "plt.xlabel('Answer Type', fontsize=14)\n",
        "plt.ylabel('Percentage (%)', fontsize=14)\n",
        "\n",
        "# Set y-ticks manually to avoid decimals\n",
        "plt.yticks(ticks=range(0, 101, 10), labels=[f'{i}%' for i in range(0, 101, 10)])\n",
        "\n",
        "# Set limits for the y-axis\n",
        "plt.ylim(0, 100)\n",
        "\n",
        "# Adjust legend\n",
        "plt.legend()\n",
        "\n",
        "# Show the plot\n",
        "plt.tight_layout()  # Adjust layout\n",
        "plt.show()"
      ]
    },
    {
      "cell_type": "code",
      "execution_count": null,
      "id": "a3f3f4c9-2a00-42f2-854e-0d4a26105c10",
      "metadata": {
        "colab": {
          "base_uri": "https://localhost:8080/",
          "height": 466
        },
        "id": "a3f3f4c9-2a00-42f2-854e-0d4a26105c10",
        "outputId": "0fda2cb2-af01-4af5-dcc8-a9ce944ae39c"
      },
      "outputs": [
        {
          "output_type": "execute_result",
          "data": {
            "text/plain": [
              "<Axes: xlabel='attempt_count', ylabel='correct'>"
            ]
          },
          "metadata": {},
          "execution_count": 164
        },
        {
          "output_type": "display_data",
          "data": {
            "text/plain": [
              "<Figure size 640x480 with 1 Axes>"
            ],
            "image/png": "[encoded data removed]"
          },
          "metadata": {}
        }
      ],
      "source": [
        "sns.scatterplot(x='attempt_count',y='correct',data=df)"
      ]
    },
    {
      "cell_type": "code",
      "execution_count": null,
      "id": "ab3f7567-99d1-49ba-8036-9fef8f1922b1",
      "metadata": {
        "colab": {
          "base_uri": "https://localhost:8080/",
          "height": 489
        },
        "id": "ab3f7567-99d1-49ba-8036-9fef8f1922b1",
        "outputId": "30355de3-0c65-4f3e-d42e-ae9cb1e39386"
      },
      "outputs": [
        {
          "output_type": "execute_result",
          "data": {
            "text/plain": [
              "attempt_count\n",
              "1      167019\n",
              "2       16173\n",
              "3        6451\n",
              "0        4464\n",
              "4        3531\n",
              "        ...  \n",
              "127         1\n",
              "246         1\n",
              "94          1\n",
              "358         1\n",
              "163         1\n",
              "Name: count, Length: 133, dtype: int64"
            ],
            "text/html": [
              "<div>\n",
              "<style scoped>\n",
              "    .dataframe tbody tr th:only-of-type {\n",
              "        vertical-align: middle;\n",
              "    }\n",
              "\n",
              "    .dataframe tbody tr th {\n",
              "        vertical-align: top;\n",
              "    }\n",
              "\n",
              "    .dataframe thead th {\n",
              "        text-align: right;\n",
              "    }\n",
              "</style>\n",
              "<table border=\"1\" class=\"dataframe\">\n",
              "  <thead>\n",
              "    <tr style=\"text-align: right;\">\n",
              "      <th></th>\n",
              "      <th>count</th>\n",
              "    </tr>\n",
              "    <tr>\n",
              "      <th>attempt_count</th>\n",
              "      <th></th>\n",
              "    </tr>\n",
              "  </thead>\n",
              "  <tbody>\n",
              "    <tr>\n",
              "      <th>1</th>\n",
              "      <td>167019</td>\n",
              "    </tr>\n",
              "    <tr>\n",
              "      <th>2</th>\n",
              "      <td>16173</td>\n",
              "    </tr>\n",
              "    <tr>\n",
              "      <th>3</th>\n",
              "      <td>6451</td>\n",
              "    </tr>\n",
              "    <tr>\n",
              "      <th>0</th>\n",
              "      <td>4464</td>\n",
              "    </tr>\n",
              "    <tr>\n",
              "      <th>4</th>\n",
              "      <td>3531</td>\n",
              "    </tr>\n",
              "    <tr>\n",
              "      <th>...</th>\n",
              "      <td>...</td>\n",
              "    </tr>\n",
              "    <tr>\n",
              "      <th>127</th>\n",
              "      <td>1</td>\n",
              "    </tr>\n",
              "    <tr>\n",
              "      <th>246</th>\n",
              "      <td>1</td>\n",
              "    </tr>\n",
              "    <tr>\n",
              "      <th>94</th>\n",
              "      <td>1</td>\n",
              "    </tr>\n",
              "    <tr>\n",
              "      <th>358</th>\n",
              "      <td>1</td>\n",
              "    </tr>\n",
              "    <tr>\n",
              "      <th>163</th>\n",
              "      <td>1</td>\n",
              "    </tr>\n",
              "  </tbody>\n",
              "</table>\n",
              "<p>133 rows × 1 columns</p>\n",
              "</div><br><label><b>dtype:</b> int64</label>"
            ]
          },
          "metadata": {},
          "execution_count": 165
        }
      ],
      "source": [
        "df['attempt_count'].value_counts()"
      ]
    },
    {
      "cell_type": "code",
      "execution_count": null,
      "id": "cef20157-036c-4969-89be-8ac285221ac4",
      "metadata": {
        "colab": {
          "base_uri": "https://localhost:8080/"
        },
        "id": "cef20157-036c-4969-89be-8ac285221ac4",
        "outputId": "04e81e01-8e9b-4cc4-834b-206847c1f699"
      },
      "outputs": [
        {
          "output_type": "execute_result",
          "data": {
            "text/plain": [
              "18"
            ]
          },
          "metadata": {},
          "execution_count": 166
        }
      ],
      "source": [
        "df['ms_first_response_time'].isnull().sum()"
      ]
    },
    {
      "cell_type": "code",
      "execution_count": null,
      "id": "bfd6081f-51f5-420c-9feb-9b23e2f0f92f",
      "metadata": {
        "id": "bfd6081f-51f5-420c-9feb-9b23e2f0f92f"
      },
      "outputs": [],
      "source": [
        "df.dropna(subset=['ms_first_response_time'], inplace=True)\n",
        "df = df.dropna(subset=['ms_first_response_time'])\n"
      ]
    },
    {
      "cell_type": "code",
      "execution_count": null,
      "id": "ec736854-466f-46b7-b487-bdc61ddc796f",
      "metadata": {
        "colab": {
          "base_uri": "https://localhost:8080/",
          "height": 679
        },
        "id": "ec736854-466f-46b7-b487-bdc61ddc796f",
        "outputId": "32b4f223-c9b0-488e-cd94-c177c9de2dd2"
      },
      "outputs": [
        {
          "output_type": "execute_result",
          "data": {
            "text/plain": [
              "assignment_id                  0\n",
              "user_id                        0\n",
              "assistment_id                  0\n",
              "problem_id                     0\n",
              "original                       0\n",
              "correct                        0\n",
              "attempt_count                  0\n",
              "ms_first_response_time         0\n",
              "tutor_mode                     0\n",
              "answer_type                    0\n",
              "sequence_id                 2178\n",
              "student_class_id            2178\n",
              "position                    2178\n",
              "problem_set_type            2178\n",
              "base_sequence_id            2178\n",
              "list_skill_ids            115576\n",
              "list_skills               115576\n",
              "teacher_id                  2178\n",
              "school_id                   5813\n",
              "dtype: int64"
            ],
            "text/html": [
              "<div>\n",
              "<style scoped>\n",
              "    .dataframe tbody tr th:only-of-type {\n",
              "        vertical-align: middle;\n",
              "    }\n",
              "\n",
              "    .dataframe tbody tr th {\n",
              "        vertical-align: top;\n",
              "    }\n",
              "\n",
              "    .dataframe thead th {\n",
              "        text-align: right;\n",
              "    }\n",
              "</style>\n",
              "<table border=\"1\" class=\"dataframe\">\n",
              "  <thead>\n",
              "    <tr style=\"text-align: right;\">\n",
              "      <th></th>\n",
              "      <th>0</th>\n",
              "    </tr>\n",
              "  </thead>\n",
              "  <tbody>\n",
              "    <tr>\n",
              "      <th>assignment_id</th>\n",
              "      <td>0</td>\n",
              "    </tr>\n",
              "    <tr>\n",
              "      <th>user_id</th>\n",
              "      <td>0</td>\n",
              "    </tr>\n",
              "    <tr>\n",
              "      <th>assistment_id</th>\n",
              "      <td>0</td>\n",
              "    </tr>\n",
              "    <tr>\n",
              "      <th>problem_id</th>\n",
              "      <td>0</td>\n",
              "    </tr>\n",
              "    <tr>\n",
              "      <th>original</th>\n",
              "      <td>0</td>\n",
              "    </tr>\n",
              "    <tr>\n",
              "      <th>correct</th>\n",
              "      <td>0</td>\n",
              "    </tr>\n",
              "    <tr>\n",
              "      <th>attempt_count</th>\n",
              "      <td>0</td>\n",
              "    </tr>\n",
              "    <tr>\n",
              "      <th>ms_first_response_time</th>\n",
              "      <td>0</td>\n",
              "    </tr>\n",
              "    <tr>\n",
              "      <th>tutor_mode</th>\n",
              "      <td>0</td>\n",
              "    </tr>\n",
              "    <tr>\n",
              "      <th>answer_type</th>\n",
              "      <td>0</td>\n",
              "    </tr>\n",
              "    <tr>\n",
              "      <th>sequence_id</th>\n",
              "      <td>2178</td>\n",
              "    </tr>\n",
              "    <tr>\n",
              "      <th>student_class_id</th>\n",
              "      <td>2178</td>\n",
              "    </tr>\n",
              "    <tr>\n",
              "      <th>position</th>\n",
              "      <td>2178</td>\n",
              "    </tr>\n",
              "    <tr>\n",
              "      <th>problem_set_type</th>\n",
              "      <td>2178</td>\n",
              "    </tr>\n",
              "    <tr>\n",
              "      <th>base_sequence_id</th>\n",
              "      <td>2178</td>\n",
              "    </tr>\n",
              "    <tr>\n",
              "      <th>list_skill_ids</th>\n",
              "      <td>115576</td>\n",
              "    </tr>\n",
              "    <tr>\n",
              "      <th>list_skills</th>\n",
              "      <td>115576</td>\n",
              "    </tr>\n",
              "    <tr>\n",
              "      <th>teacher_id</th>\n",
              "      <td>2178</td>\n",
              "    </tr>\n",
              "    <tr>\n",
              "      <th>school_id</th>\n",
              "      <td>5813</td>\n",
              "    </tr>\n",
              "  </tbody>\n",
              "</table>\n",
              "</div><br><label><b>dtype:</b> int64</label>"
            ]
          },
          "metadata": {},
          "execution_count": 168
        }
      ],
      "source": [
        "df.isnull().sum()"
      ]
    },
    {
      "cell_type": "code",
      "execution_count": null,
      "id": "f740aa57-5a5b-4f95-a8c5-cbd863b00d15",
      "metadata": {
        "colab": {
          "base_uri": "https://localhost:8080/"
        },
        "id": "f740aa57-5a5b-4f95-a8c5-cbd863b00d15",
        "outputId": "1b5cb960-8c1f-452f-af85-e22bac82c4b4"
      },
      "outputs": [
        {
          "output_type": "execute_result",
          "data": {
            "text/plain": [
              "0.2721589728879613"
            ]
          },
          "metadata": {},
          "execution_count": 169
        }
      ],
      "source": [
        "11006 *5/ len(df)"
      ]
    },
    {
      "cell_type": "code",
      "execution_count": null,
      "id": "803f6139-1913-47ac-b06d-2a8f632f3f5f",
      "metadata": {
        "colab": {
          "base_uri": "https://localhost:8080/"
        },
        "id": "803f6139-1913-47ac-b06d-2a8f632f3f5f",
        "outputId": "d9df9452-6965-4304-d749-817da93d12ad"
      },
      "outputs": [
        {
          "output_type": "execute_result",
          "data": {
            "text/plain": [
              "202198"
            ]
          },
          "metadata": {},
          "execution_count": 170
        }
      ],
      "source": [
        "len(df)"
      ]
    },
    {
      "cell_type": "code",
      "execution_count": null,
      "id": "e972f989-a753-49c0-aaf4-755dbc23142a",
      "metadata": {
        "id": "e972f989-a753-49c0-aaf4-755dbc23142a"
      },
      "outputs": [],
      "source": [
        "# df = df.drop('list_skills',axis=1)"
      ]
    },
    {
      "cell_type": "code",
      "execution_count": null,
      "id": "bee5a57f-6cfe-4fc9-9f6e-4f5662f62169",
      "metadata": {
        "colab": {
          "base_uri": "https://localhost:8080/"
        },
        "id": "bee5a57f-6cfe-4fc9-9f6e-4f5662f62169",
        "outputId": "880057fe-3a33-402e-f049-48ac191696e3"
      },
      "outputs": [
        {
          "output_type": "execute_result",
          "data": {
            "text/plain": [
              "202198"
            ]
          },
          "metadata": {},
          "execution_count": 172
        }
      ],
      "source": [
        "len(df)"
      ]
    },
    {
      "cell_type": "code",
      "execution_count": null,
      "id": "97012876-2e09-4d69-871b-1ea5ffec1b26",
      "metadata": {
        "colab": {
          "base_uri": "https://localhost:8080/",
          "height": 679
        },
        "id": "97012876-2e09-4d69-871b-1ea5ffec1b26",
        "outputId": "bd3b2115-5ce1-4645-cffd-cd6009632931"
      },
      "outputs": [
        {
          "output_type": "execute_result",
          "data": {
            "text/plain": [
              "assignment_id                  0\n",
              "user_id                        0\n",
              "assistment_id                  0\n",
              "problem_id                     0\n",
              "original                       0\n",
              "correct                        0\n",
              "attempt_count                  0\n",
              "ms_first_response_time         0\n",
              "tutor_mode                     0\n",
              "answer_type                    0\n",
              "sequence_id                 2178\n",
              "student_class_id            2178\n",
              "position                    2178\n",
              "problem_set_type            2178\n",
              "base_sequence_id            2178\n",
              "list_skill_ids            115576\n",
              "list_skills               115576\n",
              "teacher_id                  2178\n",
              "school_id                   5813\n",
              "dtype: int64"
            ],
            "text/html": [
              "<div>\n",
              "<style scoped>\n",
              "    .dataframe tbody tr th:only-of-type {\n",
              "        vertical-align: middle;\n",
              "    }\n",
              "\n",
              "    .dataframe tbody tr th {\n",
              "        vertical-align: top;\n",
              "    }\n",
              "\n",
              "    .dataframe thead th {\n",
              "        text-align: right;\n",
              "    }\n",
              "</style>\n",
              "<table border=\"1\" class=\"dataframe\">\n",
              "  <thead>\n",
              "    <tr style=\"text-align: right;\">\n",
              "      <th></th>\n",
              "      <th>0</th>\n",
              "    </tr>\n",
              "  </thead>\n",
              "  <tbody>\n",
              "    <tr>\n",
              "      <th>assignment_id</th>\n",
              "      <td>0</td>\n",
              "    </tr>\n",
              "    <tr>\n",
              "      <th>user_id</th>\n",
              "      <td>0</td>\n",
              "    </tr>\n",
              "    <tr>\n",
              "      <th>assistment_id</th>\n",
              "      <td>0</td>\n",
              "    </tr>\n",
              "    <tr>\n",
              "      <th>problem_id</th>\n",
              "      <td>0</td>\n",
              "    </tr>\n",
              "    <tr>\n",
              "      <th>original</th>\n",
              "      <td>0</td>\n",
              "    </tr>\n",
              "    <tr>\n",
              "      <th>correct</th>\n",
              "      <td>0</td>\n",
              "    </tr>\n",
              "    <tr>\n",
              "      <th>attempt_count</th>\n",
              "      <td>0</td>\n",
              "    </tr>\n",
              "    <tr>\n",
              "      <th>ms_first_response_time</th>\n",
              "      <td>0</td>\n",
              "    </tr>\n",
              "    <tr>\n",
              "      <th>tutor_mode</th>\n",
              "      <td>0</td>\n",
              "    </tr>\n",
              "    <tr>\n",
              "      <th>answer_type</th>\n",
              "      <td>0</td>\n",
              "    </tr>\n",
              "    <tr>\n",
              "      <th>sequence_id</th>\n",
              "      <td>2178</td>\n",
              "    </tr>\n",
              "    <tr>\n",
              "      <th>student_class_id</th>\n",
              "      <td>2178</td>\n",
              "    </tr>\n",
              "    <tr>\n",
              "      <th>position</th>\n",
              "      <td>2178</td>\n",
              "    </tr>\n",
              "    <tr>\n",
              "      <th>problem_set_type</th>\n",
              "      <td>2178</td>\n",
              "    </tr>\n",
              "    <tr>\n",
              "      <th>base_sequence_id</th>\n",
              "      <td>2178</td>\n",
              "    </tr>\n",
              "    <tr>\n",
              "      <th>list_skill_ids</th>\n",
              "      <td>115576</td>\n",
              "    </tr>\n",
              "    <tr>\n",
              "      <th>list_skills</th>\n",
              "      <td>115576</td>\n",
              "    </tr>\n",
              "    <tr>\n",
              "      <th>teacher_id</th>\n",
              "      <td>2178</td>\n",
              "    </tr>\n",
              "    <tr>\n",
              "      <th>school_id</th>\n",
              "      <td>5813</td>\n",
              "    </tr>\n",
              "  </tbody>\n",
              "</table>\n",
              "</div><br><label><b>dtype:</b> int64</label>"
            ]
          },
          "metadata": {},
          "execution_count": 173
        }
      ],
      "source": [
        "df.isnull().sum()"
      ]
    },
    {
      "cell_type": "code",
      "execution_count": null,
      "id": "5d3026c6-0910-49f4-95b8-179560f1c9e7",
      "metadata": {
        "colab": {
          "base_uri": "https://localhost:8080/",
          "height": 246
        },
        "id": "5d3026c6-0910-49f4-95b8-179560f1c9e7",
        "outputId": "22b392fb-5650-4b37-fd89-85ba36a1e387"
      },
      "outputs": [
        {
          "output_type": "execute_result",
          "data": {
            "text/plain": [
              "<Axes: xlabel='list_skill_ids', ylabel='list_skills'>"
            ]
          },
          "metadata": {},
          "execution_count": 174
        },
        {
          "output_type": "display_data",
          "data": {
            "text/plain": [
              "<Figure size 640x480 with 1 Axes>"
            ],
            "image/png": "[encoded data removed]"
          },
          "metadata": {}
        }
      ],
      "source": [
        "sns.scatterplot(x='list_skill_ids',y='list_skills',data=df)"
      ]
    },
    {
      "cell_type": "code",
      "execution_count": null,
      "id": "c0a14edc-5fcf-4162-82c7-08a68baf1a50",
      "metadata": {
        "id": "c0a14edc-5fcf-4162-82c7-08a68baf1a50"
      },
      "outputs": [],
      "source": [
        "df=df.drop('list_skills',axis=1)"
      ]
    },
    {
      "cell_type": "code",
      "execution_count": null,
      "id": "e8250cc6-0439-4619-b284-17ba39333d56",
      "metadata": {
        "colab": {
          "base_uri": "https://localhost:8080/",
          "height": 467
        },
        "id": "e8250cc6-0439-4619-b284-17ba39333d56",
        "outputId": "77b7e888-bdfb-4e51-934f-f4518f08c679"
      },
      "outputs": [
        {
          "output_type": "execute_result",
          "data": {
            "text/plain": [
              "<Axes: xlabel='sequence_id', ylabel='base_sequence_id'>"
            ]
          },
          "metadata": {},
          "execution_count": 176
        },
        {
          "output_type": "display_data",
          "data": {
            "text/plain": [
              "<Figure size 640x480 with 1 Axes>"
            ],
            "image/png": "[encoded data removed]"
          },
          "metadata": {}
        }
      ],
      "source": [
        "sns.scatterplot(x='sequence_id',y='base_sequence_id',data=df)"
      ]
    },
    {
      "cell_type": "code",
      "execution_count": null,
      "id": "d4a04087-4afa-4332-a58d-5e3e8984e187",
      "metadata": {
        "colab": {
          "base_uri": "https://localhost:8080/",
          "height": 648
        },
        "id": "d4a04087-4afa-4332-a58d-5e3e8984e187",
        "outputId": "6f0d50db-144f-43c4-d000-7dbdd8b609f3"
      },
      "outputs": [
        {
          "output_type": "execute_result",
          "data": {
            "text/plain": [
              "assignment_id                  0\n",
              "user_id                        0\n",
              "assistment_id                  0\n",
              "problem_id                     0\n",
              "original                       0\n",
              "correct                        0\n",
              "attempt_count                  0\n",
              "ms_first_response_time         0\n",
              "tutor_mode                     0\n",
              "answer_type                    0\n",
              "sequence_id                 2178\n",
              "student_class_id            2178\n",
              "position                    2178\n",
              "problem_set_type            2178\n",
              "base_sequence_id            2178\n",
              "list_skill_ids            115576\n",
              "teacher_id                  2178\n",
              "school_id                   5813\n",
              "dtype: int64"
            ],
            "text/html": [
              "<div>\n",
              "<style scoped>\n",
              "    .dataframe tbody tr th:only-of-type {\n",
              "        vertical-align: middle;\n",
              "    }\n",
              "\n",
              "    .dataframe tbody tr th {\n",
              "        vertical-align: top;\n",
              "    }\n",
              "\n",
              "    .dataframe thead th {\n",
              "        text-align: right;\n",
              "    }\n",
              "</style>\n",
              "<table border=\"1\" class=\"dataframe\">\n",
              "  <thead>\n",
              "    <tr style=\"text-align: right;\">\n",
              "      <th></th>\n",
              "      <th>0</th>\n",
              "    </tr>\n",
              "  </thead>\n",
              "  <tbody>\n",
              "    <tr>\n",
              "      <th>assignment_id</th>\n",
              "      <td>0</td>\n",
              "    </tr>\n",
              "    <tr>\n",
              "      <th>user_id</th>\n",
              "      <td>0</td>\n",
              "    </tr>\n",
              "    <tr>\n",
              "      <th>assistment_id</th>\n",
              "      <td>0</td>\n",
              "    </tr>\n",
              "    <tr>\n",
              "      <th>problem_id</th>\n",
              "      <td>0</td>\n",
              "    </tr>\n",
              "    <tr>\n",
              "      <th>original</th>\n",
              "      <td>0</td>\n",
              "    </tr>\n",
              "    <tr>\n",
              "      <th>correct</th>\n",
              "      <td>0</td>\n",
              "    </tr>\n",
              "    <tr>\n",
              "      <th>attempt_count</th>\n",
              "      <td>0</td>\n",
              "    </tr>\n",
              "    <tr>\n",
              "      <th>ms_first_response_time</th>\n",
              "      <td>0</td>\n",
              "    </tr>\n",
              "    <tr>\n",
              "      <th>tutor_mode</th>\n",
              "      <td>0</td>\n",
              "    </tr>\n",
              "    <tr>\n",
              "      <th>answer_type</th>\n",
              "      <td>0</td>\n",
              "    </tr>\n",
              "    <tr>\n",
              "      <th>sequence_id</th>\n",
              "      <td>2178</td>\n",
              "    </tr>\n",
              "    <tr>\n",
              "      <th>student_class_id</th>\n",
              "      <td>2178</td>\n",
              "    </tr>\n",
              "    <tr>\n",
              "      <th>position</th>\n",
              "      <td>2178</td>\n",
              "    </tr>\n",
              "    <tr>\n",
              "      <th>problem_set_type</th>\n",
              "      <td>2178</td>\n",
              "    </tr>\n",
              "    <tr>\n",
              "      <th>base_sequence_id</th>\n",
              "      <td>2178</td>\n",
              "    </tr>\n",
              "    <tr>\n",
              "      <th>list_skill_ids</th>\n",
              "      <td>115576</td>\n",
              "    </tr>\n",
              "    <tr>\n",
              "      <th>teacher_id</th>\n",
              "      <td>2178</td>\n",
              "    </tr>\n",
              "    <tr>\n",
              "      <th>school_id</th>\n",
              "      <td>5813</td>\n",
              "    </tr>\n",
              "  </tbody>\n",
              "</table>\n",
              "</div><br><label><b>dtype:</b> int64</label>"
            ]
          },
          "metadata": {},
          "execution_count": 177
        }
      ],
      "source": [
        "df.isnull().sum()"
      ]
    },
    {
      "cell_type": "code",
      "execution_count": null,
      "id": "2d78977b-5368-4702-b496-4d4774538b81",
      "metadata": {
        "colab": {
          "base_uri": "https://localhost:8080/",
          "height": 489
        },
        "id": "2d78977b-5368-4702-b496-4d4774538b81",
        "outputId": "b9bb3262-a703-4577-98d6-6fa2404ade36"
      },
      "outputs": [
        {
          "output_type": "execute_result",
          "data": {
            "text/plain": [
              "base_sequence_id\n",
              "2427.0     3502\n",
              "8701.0     3317\n",
              "5110.0     3008\n",
              "6094.0     2509\n",
              "5330.0     2470\n",
              "           ... \n",
              "9223.0        1\n",
              "9804.0        1\n",
              "6317.0        1\n",
              "11759.0       1\n",
              "7639.0        1\n",
              "Name: count, Length: 1080, dtype: int64"
            ],
            "text/html": [
              "<div>\n",
              "<style scoped>\n",
              "    .dataframe tbody tr th:only-of-type {\n",
              "        vertical-align: middle;\n",
              "    }\n",
              "\n",
              "    .dataframe tbody tr th {\n",
              "        vertical-align: top;\n",
              "    }\n",
              "\n",
              "    .dataframe thead th {\n",
              "        text-align: right;\n",
              "    }\n",
              "</style>\n",
              "<table border=\"1\" class=\"dataframe\">\n",
              "  <thead>\n",
              "    <tr style=\"text-align: right;\">\n",
              "      <th></th>\n",
              "      <th>count</th>\n",
              "    </tr>\n",
              "    <tr>\n",
              "      <th>base_sequence_id</th>\n",
              "      <th></th>\n",
              "    </tr>\n",
              "  </thead>\n",
              "  <tbody>\n",
              "    <tr>\n",
              "      <th>2427.0</th>\n",
              "      <td>3502</td>\n",
              "    </tr>\n",
              "    <tr>\n",
              "      <th>8701.0</th>\n",
              "      <td>3317</td>\n",
              "    </tr>\n",
              "    <tr>\n",
              "      <th>5110.0</th>\n",
              "      <td>3008</td>\n",
              "    </tr>\n",
              "    <tr>\n",
              "      <th>6094.0</th>\n",
              "      <td>2509</td>\n",
              "    </tr>\n",
              "    <tr>\n",
              "      <th>5330.0</th>\n",
              "      <td>2470</td>\n",
              "    </tr>\n",
              "    <tr>\n",
              "      <th>...</th>\n",
              "      <td>...</td>\n",
              "    </tr>\n",
              "    <tr>\n",
              "      <th>9223.0</th>\n",
              "      <td>1</td>\n",
              "    </tr>\n",
              "    <tr>\n",
              "      <th>9804.0</th>\n",
              "      <td>1</td>\n",
              "    </tr>\n",
              "    <tr>\n",
              "      <th>6317.0</th>\n",
              "      <td>1</td>\n",
              "    </tr>\n",
              "    <tr>\n",
              "      <th>11759.0</th>\n",
              "      <td>1</td>\n",
              "    </tr>\n",
              "    <tr>\n",
              "      <th>7639.0</th>\n",
              "      <td>1</td>\n",
              "    </tr>\n",
              "  </tbody>\n",
              "</table>\n",
              "<p>1080 rows × 1 columns</p>\n",
              "</div><br><label><b>dtype:</b> int64</label>"
            ]
          },
          "metadata": {},
          "execution_count": 178
        }
      ],
      "source": [
        "df['base_sequence_id'].value_counts()"
      ]
    },
    {
      "cell_type": "code",
      "execution_count": null,
      "id": "0208a520-d5de-47e7-bf4d-f4eed5527bb9",
      "metadata": {
        "colab": {
          "base_uri": "https://localhost:8080/",
          "height": 489
        },
        "id": "0208a520-d5de-47e7-bf4d-f4eed5527bb9",
        "outputId": "638d1882-e92d-40d8-b4f3-fe7c8d7375c8"
      },
      "outputs": [
        {
          "output_type": "execute_result",
          "data": {
            "text/plain": [
              "sequence_id\n",
              "2427.0     3502\n",
              "5110.0     3008\n",
              "5330.0     2470\n",
              "5969.0     2054\n",
              "8743.0     1987\n",
              "           ... \n",
              "9944.0        1\n",
              "8122.0        1\n",
              "6317.0        1\n",
              "11759.0       1\n",
              "7639.0        1\n",
              "Name: count, Length: 1499, dtype: int64"
            ],
            "text/html": [
              "<div>\n",
              "<style scoped>\n",
              "    .dataframe tbody tr th:only-of-type {\n",
              "        vertical-align: middle;\n",
              "    }\n",
              "\n",
              "    .dataframe tbody tr th {\n",
              "        vertical-align: top;\n",
              "    }\n",
              "\n",
              "    .dataframe thead th {\n",
              "        text-align: right;\n",
              "    }\n",
              "</style>\n",
              "<table border=\"1\" class=\"dataframe\">\n",
              "  <thead>\n",
              "    <tr style=\"text-align: right;\">\n",
              "      <th></th>\n",
              "      <th>count</th>\n",
              "    </tr>\n",
              "    <tr>\n",
              "      <th>sequence_id</th>\n",
              "      <th></th>\n",
              "    </tr>\n",
              "  </thead>\n",
              "  <tbody>\n",
              "    <tr>\n",
              "      <th>2427.0</th>\n",
              "      <td>3502</td>\n",
              "    </tr>\n",
              "    <tr>\n",
              "      <th>5110.0</th>\n",
              "      <td>3008</td>\n",
              "    </tr>\n",
              "    <tr>\n",
              "      <th>5330.0</th>\n",
              "      <td>2470</td>\n",
              "    </tr>\n",
              "    <tr>\n",
              "      <th>5969.0</th>\n",
              "      <td>2054</td>\n",
              "    </tr>\n",
              "    <tr>\n",
              "      <th>8743.0</th>\n",
              "      <td>1987</td>\n",
              "    </tr>\n",
              "    <tr>\n",
              "      <th>...</th>\n",
              "      <td>...</td>\n",
              "    </tr>\n",
              "    <tr>\n",
              "      <th>9944.0</th>\n",
              "      <td>1</td>\n",
              "    </tr>\n",
              "    <tr>\n",
              "      <th>8122.0</th>\n",
              "      <td>1</td>\n",
              "    </tr>\n",
              "    <tr>\n",
              "      <th>6317.0</th>\n",
              "      <td>1</td>\n",
              "    </tr>\n",
              "    <tr>\n",
              "      <th>11759.0</th>\n",
              "      <td>1</td>\n",
              "    </tr>\n",
              "    <tr>\n",
              "      <th>7639.0</th>\n",
              "      <td>1</td>\n",
              "    </tr>\n",
              "  </tbody>\n",
              "</table>\n",
              "<p>1499 rows × 1 columns</p>\n",
              "</div><br><label><b>dtype:</b> int64</label>"
            ]
          },
          "metadata": {},
          "execution_count": 179
        }
      ],
      "source": [
        "df['sequence_id'].value_counts()"
      ]
    },
    {
      "cell_type": "code",
      "execution_count": null,
      "id": "732e53fd-14c6-4ca3-8b6b-f429e0386160",
      "metadata": {
        "id": "732e53fd-14c6-4ca3-8b6b-f429e0386160"
      },
      "outputs": [],
      "source": [
        "# df.dropna(subset=['base_sequence_id'],inplace=True)"
      ]
    },
    {
      "cell_type": "code",
      "execution_count": null,
      "id": "8a6e2648-8606-4e22-b703-f077d99e5a47",
      "metadata": {
        "colab": {
          "base_uri": "https://localhost:8080/",
          "height": 648
        },
        "id": "8a6e2648-8606-4e22-b703-f077d99e5a47",
        "outputId": "7fcc5dfd-80fe-4152-94d9-43214adda02c"
      },
      "outputs": [
        {
          "output_type": "execute_result",
          "data": {
            "text/plain": [
              "assignment_id                  0\n",
              "user_id                        0\n",
              "assistment_id                  0\n",
              "problem_id                     0\n",
              "original                       0\n",
              "correct                        0\n",
              "attempt_count                  0\n",
              "ms_first_response_time         0\n",
              "tutor_mode                     0\n",
              "answer_type                    0\n",
              "sequence_id                 2178\n",
              "student_class_id            2178\n",
              "position                    2178\n",
              "problem_set_type            2178\n",
              "base_sequence_id            2178\n",
              "list_skill_ids            115576\n",
              "teacher_id                  2178\n",
              "school_id                   5813\n",
              "dtype: int64"
            ],
            "text/html": [
              "<div>\n",
              "<style scoped>\n",
              "    .dataframe tbody tr th:only-of-type {\n",
              "        vertical-align: middle;\n",
              "    }\n",
              "\n",
              "    .dataframe tbody tr th {\n",
              "        vertical-align: top;\n",
              "    }\n",
              "\n",
              "    .dataframe thead th {\n",
              "        text-align: right;\n",
              "    }\n",
              "</style>\n",
              "<table border=\"1\" class=\"dataframe\">\n",
              "  <thead>\n",
              "    <tr style=\"text-align: right;\">\n",
              "      <th></th>\n",
              "      <th>0</th>\n",
              "    </tr>\n",
              "  </thead>\n",
              "  <tbody>\n",
              "    <tr>\n",
              "      <th>assignment_id</th>\n",
              "      <td>0</td>\n",
              "    </tr>\n",
              "    <tr>\n",
              "      <th>user_id</th>\n",
              "      <td>0</td>\n",
              "    </tr>\n",
              "    <tr>\n",
              "      <th>assistment_id</th>\n",
              "      <td>0</td>\n",
              "    </tr>\n",
              "    <tr>\n",
              "      <th>problem_id</th>\n",
              "      <td>0</td>\n",
              "    </tr>\n",
              "    <tr>\n",
              "      <th>original</th>\n",
              "      <td>0</td>\n",
              "    </tr>\n",
              "    <tr>\n",
              "      <th>correct</th>\n",
              "      <td>0</td>\n",
              "    </tr>\n",
              "    <tr>\n",
              "      <th>attempt_count</th>\n",
              "      <td>0</td>\n",
              "    </tr>\n",
              "    <tr>\n",
              "      <th>ms_first_response_time</th>\n",
              "      <td>0</td>\n",
              "    </tr>\n",
              "    <tr>\n",
              "      <th>tutor_mode</th>\n",
              "      <td>0</td>\n",
              "    </tr>\n",
              "    <tr>\n",
              "      <th>answer_type</th>\n",
              "      <td>0</td>\n",
              "    </tr>\n",
              "    <tr>\n",
              "      <th>sequence_id</th>\n",
              "      <td>2178</td>\n",
              "    </tr>\n",
              "    <tr>\n",
              "      <th>student_class_id</th>\n",
              "      <td>2178</td>\n",
              "    </tr>\n",
              "    <tr>\n",
              "      <th>position</th>\n",
              "      <td>2178</td>\n",
              "    </tr>\n",
              "    <tr>\n",
              "      <th>problem_set_type</th>\n",
              "      <td>2178</td>\n",
              "    </tr>\n",
              "    <tr>\n",
              "      <th>base_sequence_id</th>\n",
              "      <td>2178</td>\n",
              "    </tr>\n",
              "    <tr>\n",
              "      <th>list_skill_ids</th>\n",
              "      <td>115576</td>\n",
              "    </tr>\n",
              "    <tr>\n",
              "      <th>teacher_id</th>\n",
              "      <td>2178</td>\n",
              "    </tr>\n",
              "    <tr>\n",
              "      <th>school_id</th>\n",
              "      <td>5813</td>\n",
              "    </tr>\n",
              "  </tbody>\n",
              "</table>\n",
              "</div><br><label><b>dtype:</b> int64</label>"
            ]
          },
          "metadata": {},
          "execution_count": 181
        }
      ],
      "source": [
        "df.isnull().sum()"
      ]
    },
    {
      "cell_type": "code",
      "execution_count": null,
      "id": "d1bd53cc-7e06-4313-82ae-6506643d5dd7",
      "metadata": {
        "id": "d1bd53cc-7e06-4313-82ae-6506643d5dd7"
      },
      "outputs": [],
      "source": [
        "df['sequence_id'] = df[['base_sequence_id', 'sequence_id']].apply(lambda x: x.dropna().unique(), axis=1)"
      ]
    },
    {
      "cell_type": "code",
      "execution_count": null,
      "id": "8ff2bd11-f14d-4d72-a52e-8846c1995257",
      "metadata": {
        "colab": {
          "base_uri": "https://localhost:8080/",
          "height": 648
        },
        "id": "8ff2bd11-f14d-4d72-a52e-8846c1995257",
        "outputId": "cf84ad5a-6a0e-4069-daa7-d8915eaf2528"
      },
      "outputs": [
        {
          "output_type": "execute_result",
          "data": {
            "text/plain": [
              "assignment_id                  0\n",
              "user_id                        0\n",
              "assistment_id                  0\n",
              "problem_id                     0\n",
              "original                       0\n",
              "correct                        0\n",
              "attempt_count                  0\n",
              "ms_first_response_time         0\n",
              "tutor_mode                     0\n",
              "answer_type                    0\n",
              "sequence_id                    0\n",
              "student_class_id            2178\n",
              "position                    2178\n",
              "problem_set_type            2178\n",
              "base_sequence_id            2178\n",
              "list_skill_ids            115576\n",
              "teacher_id                  2178\n",
              "school_id                   5813\n",
              "dtype: int64"
            ],
            "text/html": [
              "<div>\n",
              "<style scoped>\n",
              "    .dataframe tbody tr th:only-of-type {\n",
              "        vertical-align: middle;\n",
              "    }\n",
              "\n",
              "    .dataframe tbody tr th {\n",
              "        vertical-align: top;\n",
              "    }\n",
              "\n",
              "    .dataframe thead th {\n",
              "        text-align: right;\n",
              "    }\n",
              "</style>\n",
              "<table border=\"1\" class=\"dataframe\">\n",
              "  <thead>\n",
              "    <tr style=\"text-align: right;\">\n",
              "      <th></th>\n",
              "      <th>0</th>\n",
              "    </tr>\n",
              "  </thead>\n",
              "  <tbody>\n",
              "    <tr>\n",
              "      <th>assignment_id</th>\n",
              "      <td>0</td>\n",
              "    </tr>\n",
              "    <tr>\n",
              "      <th>user_id</th>\n",
              "      <td>0</td>\n",
              "    </tr>\n",
              "    <tr>\n",
              "      <th>assistment_id</th>\n",
              "      <td>0</td>\n",
              "    </tr>\n",
              "    <tr>\n",
              "      <th>problem_id</th>\n",
              "      <td>0</td>\n",
              "    </tr>\n",
              "    <tr>\n",
              "      <th>original</th>\n",
              "      <td>0</td>\n",
              "    </tr>\n",
              "    <tr>\n",
              "      <th>correct</th>\n",
              "      <td>0</td>\n",
              "    </tr>\n",
              "    <tr>\n",
              "      <th>attempt_count</th>\n",
              "      <td>0</td>\n",
              "    </tr>\n",
              "    <tr>\n",
              "      <th>ms_first_response_time</th>\n",
              "      <td>0</td>\n",
              "    </tr>\n",
              "    <tr>\n",
              "      <th>tutor_mode</th>\n",
              "      <td>0</td>\n",
              "    </tr>\n",
              "    <tr>\n",
              "      <th>answer_type</th>\n",
              "      <td>0</td>\n",
              "    </tr>\n",
              "    <tr>\n",
              "      <th>sequence_id</th>\n",
              "      <td>0</td>\n",
              "    </tr>\n",
              "    <tr>\n",
              "      <th>student_class_id</th>\n",
              "      <td>2178</td>\n",
              "    </tr>\n",
              "    <tr>\n",
              "      <th>position</th>\n",
              "      <td>2178</td>\n",
              "    </tr>\n",
              "    <tr>\n",
              "      <th>problem_set_type</th>\n",
              "      <td>2178</td>\n",
              "    </tr>\n",
              "    <tr>\n",
              "      <th>base_sequence_id</th>\n",
              "      <td>2178</td>\n",
              "    </tr>\n",
              "    <tr>\n",
              "      <th>list_skill_ids</th>\n",
              "      <td>115576</td>\n",
              "    </tr>\n",
              "    <tr>\n",
              "      <th>teacher_id</th>\n",
              "      <td>2178</td>\n",
              "    </tr>\n",
              "    <tr>\n",
              "      <th>school_id</th>\n",
              "      <td>5813</td>\n",
              "    </tr>\n",
              "  </tbody>\n",
              "</table>\n",
              "</div><br><label><b>dtype:</b> int64</label>"
            ]
          },
          "metadata": {},
          "execution_count": 183
        }
      ],
      "source": [
        "df.isnull().sum()"
      ]
    },
    {
      "cell_type": "code",
      "execution_count": null,
      "id": "51872f7f-a423-42f4-ab26-6b3ed0577101",
      "metadata": {
        "colab": {
          "base_uri": "https://localhost:8080/",
          "height": 489
        },
        "id": "51872f7f-a423-42f4-ab26-6b3ed0577101",
        "scrolled": true,
        "outputId": "490559a9-b08e-4ed4-f09e-e08130fc0890"
      },
      "outputs": [
        {
          "output_type": "execute_result",
          "data": {
            "text/plain": [
              "position\n",
              "1.0      39449\n",
              "2.0      11149\n",
              "6.0       6994\n",
              "3.0       6194\n",
              "4.0       5788\n",
              "         ...  \n",
              "276.0        3\n",
              "273.0        3\n",
              "274.0        3\n",
              "281.0        2\n",
              "277.0        1\n",
              "Name: count, Length: 295, dtype: int64"
            ],
            "text/html": [
              "<div>\n",
              "<style scoped>\n",
              "    .dataframe tbody tr th:only-of-type {\n",
              "        vertical-align: middle;\n",
              "    }\n",
              "\n",
              "    .dataframe tbody tr th {\n",
              "        vertical-align: top;\n",
              "    }\n",
              "\n",
              "    .dataframe thead th {\n",
              "        text-align: right;\n",
              "    }\n",
              "</style>\n",
              "<table border=\"1\" class=\"dataframe\">\n",
              "  <thead>\n",
              "    <tr style=\"text-align: right;\">\n",
              "      <th></th>\n",
              "      <th>count</th>\n",
              "    </tr>\n",
              "    <tr>\n",
              "      <th>position</th>\n",
              "      <th></th>\n",
              "    </tr>\n",
              "  </thead>\n",
              "  <tbody>\n",
              "    <tr>\n",
              "      <th>1.0</th>\n",
              "      <td>39449</td>\n",
              "    </tr>\n",
              "    <tr>\n",
              "      <th>2.0</th>\n",
              "      <td>11149</td>\n",
              "    </tr>\n",
              "    <tr>\n",
              "      <th>6.0</th>\n",
              "      <td>6994</td>\n",
              "    </tr>\n",
              "    <tr>\n",
              "      <th>3.0</th>\n",
              "      <td>6194</td>\n",
              "    </tr>\n",
              "    <tr>\n",
              "      <th>4.0</th>\n",
              "      <td>5788</td>\n",
              "    </tr>\n",
              "    <tr>\n",
              "      <th>...</th>\n",
              "      <td>...</td>\n",
              "    </tr>\n",
              "    <tr>\n",
              "      <th>276.0</th>\n",
              "      <td>3</td>\n",
              "    </tr>\n",
              "    <tr>\n",
              "      <th>273.0</th>\n",
              "      <td>3</td>\n",
              "    </tr>\n",
              "    <tr>\n",
              "      <th>274.0</th>\n",
              "      <td>3</td>\n",
              "    </tr>\n",
              "    <tr>\n",
              "      <th>281.0</th>\n",
              "      <td>2</td>\n",
              "    </tr>\n",
              "    <tr>\n",
              "      <th>277.0</th>\n",
              "      <td>1</td>\n",
              "    </tr>\n",
              "  </tbody>\n",
              "</table>\n",
              "<p>295 rows × 1 columns</p>\n",
              "</div><br><label><b>dtype:</b> int64</label>"
            ]
          },
          "metadata": {},
          "execution_count": 184
        }
      ],
      "source": [
        "# df['problem_set_type'].value_counts()\n",
        "df['position'].value_counts()"
      ]
    },
    {
      "cell_type": "code",
      "execution_count": null,
      "id": "465f878c-ad15-4142-a105-70bd8178395a",
      "metadata": {
        "id": "465f878c-ad15-4142-a105-70bd8178395a"
      },
      "outputs": [],
      "source": [
        "df=df.drop('base_sequence_id',axis=1)"
      ]
    },
    {
      "cell_type": "code",
      "execution_count": null,
      "id": "f8e26374-98f0-496b-8443-d951cc0e766e",
      "metadata": {
        "id": "f8e26374-98f0-496b-8443-d951cc0e766e"
      },
      "outputs": [],
      "source": [
        "df['position']=df['position'].fillna(1)"
      ]
    },
    {
      "cell_type": "code",
      "execution_count": null,
      "id": "f70a7b99-e6bd-4315-adc3-362bd12e3424",
      "metadata": {
        "id": "f70a7b99-e6bd-4315-adc3-362bd12e3424",
        "colab": {
          "base_uri": "https://localhost:8080/",
          "height": 617
        },
        "outputId": "ae41ff95-d31b-4f17-90a4-de285a780d28"
      },
      "outputs": [
        {
          "output_type": "execute_result",
          "data": {
            "text/plain": [
              "assignment_id                  0\n",
              "user_id                        0\n",
              "assistment_id                  0\n",
              "problem_id                     0\n",
              "original                       0\n",
              "correct                        0\n",
              "attempt_count                  0\n",
              "ms_first_response_time         0\n",
              "tutor_mode                     0\n",
              "answer_type                    0\n",
              "sequence_id                    0\n",
              "student_class_id            2178\n",
              "position                       0\n",
              "problem_set_type            2178\n",
              "list_skill_ids            115576\n",
              "teacher_id                  2178\n",
              "school_id                   5813\n",
              "dtype: int64"
            ],
            "text/html": [
              "<div>\n",
              "<style scoped>\n",
              "    .dataframe tbody tr th:only-of-type {\n",
              "        vertical-align: middle;\n",
              "    }\n",
              "\n",
              "    .dataframe tbody tr th {\n",
              "        vertical-align: top;\n",
              "    }\n",
              "\n",
              "    .dataframe thead th {\n",
              "        text-align: right;\n",
              "    }\n",
              "</style>\n",
              "<table border=\"1\" class=\"dataframe\">\n",
              "  <thead>\n",
              "    <tr style=\"text-align: right;\">\n",
              "      <th></th>\n",
              "      <th>0</th>\n",
              "    </tr>\n",
              "  </thead>\n",
              "  <tbody>\n",
              "    <tr>\n",
              "      <th>assignment_id</th>\n",
              "      <td>0</td>\n",
              "    </tr>\n",
              "    <tr>\n",
              "      <th>user_id</th>\n",
              "      <td>0</td>\n",
              "    </tr>\n",
              "    <tr>\n",
              "      <th>assistment_id</th>\n",
              "      <td>0</td>\n",
              "    </tr>\n",
              "    <tr>\n",
              "      <th>problem_id</th>\n",
              "      <td>0</td>\n",
              "    </tr>\n",
              "    <tr>\n",
              "      <th>original</th>\n",
              "      <td>0</td>\n",
              "    </tr>\n",
              "    <tr>\n",
              "      <th>correct</th>\n",
              "      <td>0</td>\n",
              "    </tr>\n",
              "    <tr>\n",
              "      <th>attempt_count</th>\n",
              "      <td>0</td>\n",
              "    </tr>\n",
              "    <tr>\n",
              "      <th>ms_first_response_time</th>\n",
              "      <td>0</td>\n",
              "    </tr>\n",
              "    <tr>\n",
              "      <th>tutor_mode</th>\n",
              "      <td>0</td>\n",
              "    </tr>\n",
              "    <tr>\n",
              "      <th>answer_type</th>\n",
              "      <td>0</td>\n",
              "    </tr>\n",
              "    <tr>\n",
              "      <th>sequence_id</th>\n",
              "      <td>0</td>\n",
              "    </tr>\n",
              "    <tr>\n",
              "      <th>student_class_id</th>\n",
              "      <td>2178</td>\n",
              "    </tr>\n",
              "    <tr>\n",
              "      <th>position</th>\n",
              "      <td>0</td>\n",
              "    </tr>\n",
              "    <tr>\n",
              "      <th>problem_set_type</th>\n",
              "      <td>2178</td>\n",
              "    </tr>\n",
              "    <tr>\n",
              "      <th>list_skill_ids</th>\n",
              "      <td>115576</td>\n",
              "    </tr>\n",
              "    <tr>\n",
              "      <th>teacher_id</th>\n",
              "      <td>2178</td>\n",
              "    </tr>\n",
              "    <tr>\n",
              "      <th>school_id</th>\n",
              "      <td>5813</td>\n",
              "    </tr>\n",
              "  </tbody>\n",
              "</table>\n",
              "</div><br><label><b>dtype:</b> int64</label>"
            ]
          },
          "metadata": {},
          "execution_count": 187
        }
      ],
      "source": [
        "df.isnull().sum()"
      ]
    },
    {
      "cell_type": "code",
      "execution_count": null,
      "id": "0960beb2-dc64-4db2-9aa7-d678165c64f8",
      "metadata": {
        "id": "0960beb2-dc64-4db2-9aa7-d678165c64f8",
        "colab": {
          "base_uri": "https://localhost:8080/",
          "height": 489
        },
        "outputId": "88fc841e-cf41-451b-f2e8-9fe278724fbd"
      },
      "outputs": [
        {
          "output_type": "execute_result",
          "data": {
            "text/plain": [
              "school_id\n",
              "2770.0    56836\n",
              "5056.0    29265\n",
              "5794.0    23005\n",
              "73.0      19098\n",
              "76.0      17339\n",
              "          ...  \n",
              "5523.0        1\n",
              "5440.0        1\n",
              "4958.0        1\n",
              "1865.0        1\n",
              "5033.0        1\n",
              "Name: count, Length: 96, dtype: int64"
            ],
            "text/html": [
              "<div>\n",
              "<style scoped>\n",
              "    .dataframe tbody tr th:only-of-type {\n",
              "        vertical-align: middle;\n",
              "    }\n",
              "\n",
              "    .dataframe tbody tr th {\n",
              "        vertical-align: top;\n",
              "    }\n",
              "\n",
              "    .dataframe thead th {\n",
              "        text-align: right;\n",
              "    }\n",
              "</style>\n",
              "<table border=\"1\" class=\"dataframe\">\n",
              "  <thead>\n",
              "    <tr style=\"text-align: right;\">\n",
              "      <th></th>\n",
              "      <th>count</th>\n",
              "    </tr>\n",
              "    <tr>\n",
              "      <th>school_id</th>\n",
              "      <th></th>\n",
              "    </tr>\n",
              "  </thead>\n",
              "  <tbody>\n",
              "    <tr>\n",
              "      <th>2770.0</th>\n",
              "      <td>56836</td>\n",
              "    </tr>\n",
              "    <tr>\n",
              "      <th>5056.0</th>\n",
              "      <td>29265</td>\n",
              "    </tr>\n",
              "    <tr>\n",
              "      <th>5794.0</th>\n",
              "      <td>23005</td>\n",
              "    </tr>\n",
              "    <tr>\n",
              "      <th>73.0</th>\n",
              "      <td>19098</td>\n",
              "    </tr>\n",
              "    <tr>\n",
              "      <th>76.0</th>\n",
              "      <td>17339</td>\n",
              "    </tr>\n",
              "    <tr>\n",
              "      <th>...</th>\n",
              "      <td>...</td>\n",
              "    </tr>\n",
              "    <tr>\n",
              "      <th>5523.0</th>\n",
              "      <td>1</td>\n",
              "    </tr>\n",
              "    <tr>\n",
              "      <th>5440.0</th>\n",
              "      <td>1</td>\n",
              "    </tr>\n",
              "    <tr>\n",
              "      <th>4958.0</th>\n",
              "      <td>1</td>\n",
              "    </tr>\n",
              "    <tr>\n",
              "      <th>1865.0</th>\n",
              "      <td>1</td>\n",
              "    </tr>\n",
              "    <tr>\n",
              "      <th>5033.0</th>\n",
              "      <td>1</td>\n",
              "    </tr>\n",
              "  </tbody>\n",
              "</table>\n",
              "<p>96 rows × 1 columns</p>\n",
              "</div><br><label><b>dtype:</b> int64</label>"
            ]
          },
          "metadata": {},
          "execution_count": 188
        }
      ],
      "source": [
        "df['school_id'].value_counts()"
      ]
    },
    {
      "cell_type": "code",
      "execution_count": null,
      "id": "371bec8a-ab0c-4d53-bdae-59e0cd0f3622",
      "metadata": {
        "id": "371bec8a-ab0c-4d53-bdae-59e0cd0f3622",
        "colab": {
          "base_uri": "https://localhost:8080/",
          "height": 489
        },
        "outputId": "162b72b6-47f7-49c9-9075-0876ba958a48"
      },
      "outputs": [
        {
          "output_type": "execute_result",
          "data": {
            "text/plain": [
              "school_id\n",
              "2770.0    62649\n",
              "5056.0    29265\n",
              "5794.0    23005\n",
              "73.0      19098\n",
              "76.0      17339\n",
              "          ...  \n",
              "5523.0        1\n",
              "5440.0        1\n",
              "4958.0        1\n",
              "1865.0        1\n",
              "5033.0        1\n",
              "Name: count, Length: 96, dtype: int64"
            ],
            "text/html": [
              "<div>\n",
              "<style scoped>\n",
              "    .dataframe tbody tr th:only-of-type {\n",
              "        vertical-align: middle;\n",
              "    }\n",
              "\n",
              "    .dataframe tbody tr th {\n",
              "        vertical-align: top;\n",
              "    }\n",
              "\n",
              "    .dataframe thead th {\n",
              "        text-align: right;\n",
              "    }\n",
              "</style>\n",
              "<table border=\"1\" class=\"dataframe\">\n",
              "  <thead>\n",
              "    <tr style=\"text-align: right;\">\n",
              "      <th></th>\n",
              "      <th>count</th>\n",
              "    </tr>\n",
              "    <tr>\n",
              "      <th>school_id</th>\n",
              "      <th></th>\n",
              "    </tr>\n",
              "  </thead>\n",
              "  <tbody>\n",
              "    <tr>\n",
              "      <th>2770.0</th>\n",
              "      <td>62649</td>\n",
              "    </tr>\n",
              "    <tr>\n",
              "      <th>5056.0</th>\n",
              "      <td>29265</td>\n",
              "    </tr>\n",
              "    <tr>\n",
              "      <th>5794.0</th>\n",
              "      <td>23005</td>\n",
              "    </tr>\n",
              "    <tr>\n",
              "      <th>73.0</th>\n",
              "      <td>19098</td>\n",
              "    </tr>\n",
              "    <tr>\n",
              "      <th>76.0</th>\n",
              "      <td>17339</td>\n",
              "    </tr>\n",
              "    <tr>\n",
              "      <th>...</th>\n",
              "      <td>...</td>\n",
              "    </tr>\n",
              "    <tr>\n",
              "      <th>5523.0</th>\n",
              "      <td>1</td>\n",
              "    </tr>\n",
              "    <tr>\n",
              "      <th>5440.0</th>\n",
              "      <td>1</td>\n",
              "    </tr>\n",
              "    <tr>\n",
              "      <th>4958.0</th>\n",
              "      <td>1</td>\n",
              "    </tr>\n",
              "    <tr>\n",
              "      <th>1865.0</th>\n",
              "      <td>1</td>\n",
              "    </tr>\n",
              "    <tr>\n",
              "      <th>5033.0</th>\n",
              "      <td>1</td>\n",
              "    </tr>\n",
              "  </tbody>\n",
              "</table>\n",
              "<p>96 rows × 1 columns</p>\n",
              "</div><br><label><b>dtype:</b> int64</label>"
            ]
          },
          "metadata": {},
          "execution_count": 189
        }
      ],
      "source": [
        "# Find the three most frequent values in column 'A'\n",
        "top_values = df['school_id'].value_counts().nlargest(3).index.tolist()\n",
        "\n",
        "# Fill missing values with the most frequent values\n",
        "for i, value in enumerate(top_values):\n",
        "    df['school_id'] = df['school_id'].fillna(value) if i < len(top_values) else df['school_id']\n",
        "\n",
        "df['school_id'].value_counts()"
      ]
    },
    {
      "cell_type": "code",
      "execution_count": null,
      "id": "dcd7d9ed-1ead-48aa-a8cd-9a2ad74633fc",
      "metadata": {
        "id": "dcd7d9ed-1ead-48aa-a8cd-9a2ad74633fc",
        "colab": {
          "base_uri": "https://localhost:8080/",
          "height": 617
        },
        "outputId": "f7266985-b01a-49a3-ca26-5ca832302bf4"
      },
      "outputs": [
        {
          "output_type": "execute_result",
          "data": {
            "text/plain": [
              "assignment_id                  0\n",
              "user_id                        0\n",
              "assistment_id                  0\n",
              "problem_id                     0\n",
              "original                       0\n",
              "correct                        0\n",
              "attempt_count                  0\n",
              "ms_first_response_time         0\n",
              "tutor_mode                     0\n",
              "answer_type                    0\n",
              "sequence_id                    0\n",
              "student_class_id            2178\n",
              "position                       0\n",
              "problem_set_type            2178\n",
              "list_skill_ids            115576\n",
              "teacher_id                  2178\n",
              "school_id                      0\n",
              "dtype: int64"
            ],
            "text/html": [
              "<div>\n",
              "<style scoped>\n",
              "    .dataframe tbody tr th:only-of-type {\n",
              "        vertical-align: middle;\n",
              "    }\n",
              "\n",
              "    .dataframe tbody tr th {\n",
              "        vertical-align: top;\n",
              "    }\n",
              "\n",
              "    .dataframe thead th {\n",
              "        text-align: right;\n",
              "    }\n",
              "</style>\n",
              "<table border=\"1\" class=\"dataframe\">\n",
              "  <thead>\n",
              "    <tr style=\"text-align: right;\">\n",
              "      <th></th>\n",
              "      <th>0</th>\n",
              "    </tr>\n",
              "  </thead>\n",
              "  <tbody>\n",
              "    <tr>\n",
              "      <th>assignment_id</th>\n",
              "      <td>0</td>\n",
              "    </tr>\n",
              "    <tr>\n",
              "      <th>user_id</th>\n",
              "      <td>0</td>\n",
              "    </tr>\n",
              "    <tr>\n",
              "      <th>assistment_id</th>\n",
              "      <td>0</td>\n",
              "    </tr>\n",
              "    <tr>\n",
              "      <th>problem_id</th>\n",
              "      <td>0</td>\n",
              "    </tr>\n",
              "    <tr>\n",
              "      <th>original</th>\n",
              "      <td>0</td>\n",
              "    </tr>\n",
              "    <tr>\n",
              "      <th>correct</th>\n",
              "      <td>0</td>\n",
              "    </tr>\n",
              "    <tr>\n",
              "      <th>attempt_count</th>\n",
              "      <td>0</td>\n",
              "    </tr>\n",
              "    <tr>\n",
              "      <th>ms_first_response_time</th>\n",
              "      <td>0</td>\n",
              "    </tr>\n",
              "    <tr>\n",
              "      <th>tutor_mode</th>\n",
              "      <td>0</td>\n",
              "    </tr>\n",
              "    <tr>\n",
              "      <th>answer_type</th>\n",
              "      <td>0</td>\n",
              "    </tr>\n",
              "    <tr>\n",
              "      <th>sequence_id</th>\n",
              "      <td>0</td>\n",
              "    </tr>\n",
              "    <tr>\n",
              "      <th>student_class_id</th>\n",
              "      <td>2178</td>\n",
              "    </tr>\n",
              "    <tr>\n",
              "      <th>position</th>\n",
              "      <td>0</td>\n",
              "    </tr>\n",
              "    <tr>\n",
              "      <th>problem_set_type</th>\n",
              "      <td>2178</td>\n",
              "    </tr>\n",
              "    <tr>\n",
              "      <th>list_skill_ids</th>\n",
              "      <td>115576</td>\n",
              "    </tr>\n",
              "    <tr>\n",
              "      <th>teacher_id</th>\n",
              "      <td>2178</td>\n",
              "    </tr>\n",
              "    <tr>\n",
              "      <th>school_id</th>\n",
              "      <td>0</td>\n",
              "    </tr>\n",
              "  </tbody>\n",
              "</table>\n",
              "</div><br><label><b>dtype:</b> int64</label>"
            ]
          },
          "metadata": {},
          "execution_count": 190
        }
      ],
      "source": [
        "df.isnull().sum()"
      ]
    },
    {
      "cell_type": "code",
      "execution_count": null,
      "id": "73221f64-d423-464d-b457-95d8a161e820",
      "metadata": {
        "id": "73221f64-d423-464d-b457-95d8a161e820",
        "colab": {
          "base_uri": "https://localhost:8080/",
          "height": 209
        },
        "outputId": "ed3b5862-caf4-4f76-8879-4788f986a494"
      },
      "outputs": [
        {
          "output_type": "execute_result",
          "data": {
            "text/plain": [
              "problem_set_type\n",
              "LinearSection              86054\n",
              "MasterySection             85214\n",
              "RandomChildOrderSection    28752\n",
              "Name: count, dtype: int64"
            ],
            "text/html": [
              "<div>\n",
              "<style scoped>\n",
              "    .dataframe tbody tr th:only-of-type {\n",
              "        vertical-align: middle;\n",
              "    }\n",
              "\n",
              "    .dataframe tbody tr th {\n",
              "        vertical-align: top;\n",
              "    }\n",
              "\n",
              "    .dataframe thead th {\n",
              "        text-align: right;\n",
              "    }\n",
              "</style>\n",
              "<table border=\"1\" class=\"dataframe\">\n",
              "  <thead>\n",
              "    <tr style=\"text-align: right;\">\n",
              "      <th></th>\n",
              "      <th>count</th>\n",
              "    </tr>\n",
              "    <tr>\n",
              "      <th>problem_set_type</th>\n",
              "      <th></th>\n",
              "    </tr>\n",
              "  </thead>\n",
              "  <tbody>\n",
              "    <tr>\n",
              "      <th>LinearSection</th>\n",
              "      <td>86054</td>\n",
              "    </tr>\n",
              "    <tr>\n",
              "      <th>MasterySection</th>\n",
              "      <td>85214</td>\n",
              "    </tr>\n",
              "    <tr>\n",
              "      <th>RandomChildOrderSection</th>\n",
              "      <td>28752</td>\n",
              "    </tr>\n",
              "  </tbody>\n",
              "</table>\n",
              "</div><br><label><b>dtype:</b> int64</label>"
            ]
          },
          "metadata": {},
          "execution_count": 191
        }
      ],
      "source": [
        "df['problem_set_type'].value_counts()"
      ]
    },
    {
      "cell_type": "code",
      "execution_count": null,
      "id": "cb49da16-f916-4710-9b90-66c3875abe4f",
      "metadata": {
        "id": "cb49da16-f916-4710-9b90-66c3875abe4f"
      },
      "outputs": [],
      "source": [
        "top_values = df['problem_set_type'].value_counts().index.tolist()\n",
        "\n",
        "# Function to fill NaN values with top values cycling through\n",
        "def fill_with_top_values(value):\n",
        "    if pd.isna(value):\n",
        "        return top_values[0]  # You can change this to the method of your choice\n",
        "    return value\n",
        "\n",
        "# Fill missing values directly in the 'problem_set_type' column using apply\n",
        "df['problem_set_type'] = df['problem_set_type'].apply(fill_with_top_values)\n"
      ]
    },
    {
      "cell_type": "code",
      "execution_count": null,
      "id": "0978814a-2ae4-4864-a4d5-d269c659e030",
      "metadata": {
        "id": "0978814a-2ae4-4864-a4d5-d269c659e030",
        "colab": {
          "base_uri": "https://localhost:8080/",
          "height": 617
        },
        "outputId": "9a65de62-3498-4fc1-adf0-a3456396f182"
      },
      "outputs": [
        {
          "output_type": "execute_result",
          "data": {
            "text/plain": [
              "assignment_id                  0\n",
              "user_id                        0\n",
              "assistment_id                  0\n",
              "problem_id                     0\n",
              "original                       0\n",
              "correct                        0\n",
              "attempt_count                  0\n",
              "ms_first_response_time         0\n",
              "tutor_mode                     0\n",
              "answer_type                    0\n",
              "sequence_id                    0\n",
              "student_class_id            2178\n",
              "position                       0\n",
              "problem_set_type               0\n",
              "list_skill_ids            115576\n",
              "teacher_id                  2178\n",
              "school_id                      0\n",
              "dtype: int64"
            ],
            "text/html": [
              "<div>\n",
              "<style scoped>\n",
              "    .dataframe tbody tr th:only-of-type {\n",
              "        vertical-align: middle;\n",
              "    }\n",
              "\n",
              "    .dataframe tbody tr th {\n",
              "        vertical-align: top;\n",
              "    }\n",
              "\n",
              "    .dataframe thead th {\n",
              "        text-align: right;\n",
              "    }\n",
              "</style>\n",
              "<table border=\"1\" class=\"dataframe\">\n",
              "  <thead>\n",
              "    <tr style=\"text-align: right;\">\n",
              "      <th></th>\n",
              "      <th>0</th>\n",
              "    </tr>\n",
              "  </thead>\n",
              "  <tbody>\n",
              "    <tr>\n",
              "      <th>assignment_id</th>\n",
              "      <td>0</td>\n",
              "    </tr>\n",
              "    <tr>\n",
              "      <th>user_id</th>\n",
              "      <td>0</td>\n",
              "    </tr>\n",
              "    <tr>\n",
              "      <th>assistment_id</th>\n",
              "      <td>0</td>\n",
              "    </tr>\n",
              "    <tr>\n",
              "      <th>problem_id</th>\n",
              "      <td>0</td>\n",
              "    </tr>\n",
              "    <tr>\n",
              "      <th>original</th>\n",
              "      <td>0</td>\n",
              "    </tr>\n",
              "    <tr>\n",
              "      <th>correct</th>\n",
              "      <td>0</td>\n",
              "    </tr>\n",
              "    <tr>\n",
              "      <th>attempt_count</th>\n",
              "      <td>0</td>\n",
              "    </tr>\n",
              "    <tr>\n",
              "      <th>ms_first_response_time</th>\n",
              "      <td>0</td>\n",
              "    </tr>\n",
              "    <tr>\n",
              "      <th>tutor_mode</th>\n",
              "      <td>0</td>\n",
              "    </tr>\n",
              "    <tr>\n",
              "      <th>answer_type</th>\n",
              "      <td>0</td>\n",
              "    </tr>\n",
              "    <tr>\n",
              "      <th>sequence_id</th>\n",
              "      <td>0</td>\n",
              "    </tr>\n",
              "    <tr>\n",
              "      <th>student_class_id</th>\n",
              "      <td>2178</td>\n",
              "    </tr>\n",
              "    <tr>\n",
              "      <th>position</th>\n",
              "      <td>0</td>\n",
              "    </tr>\n",
              "    <tr>\n",
              "      <th>problem_set_type</th>\n",
              "      <td>0</td>\n",
              "    </tr>\n",
              "    <tr>\n",
              "      <th>list_skill_ids</th>\n",
              "      <td>115576</td>\n",
              "    </tr>\n",
              "    <tr>\n",
              "      <th>teacher_id</th>\n",
              "      <td>2178</td>\n",
              "    </tr>\n",
              "    <tr>\n",
              "      <th>school_id</th>\n",
              "      <td>0</td>\n",
              "    </tr>\n",
              "  </tbody>\n",
              "</table>\n",
              "</div><br><label><b>dtype:</b> int64</label>"
            ]
          },
          "metadata": {},
          "execution_count": 193
        }
      ],
      "source": [
        "df.isnull().sum()"
      ]
    },
    {
      "cell_type": "code",
      "execution_count": null,
      "id": "54b5552f-f2bf-494e-8274-138ade9a9ecb",
      "metadata": {
        "id": "54b5552f-f2bf-494e-8274-138ade9a9ecb",
        "colab": {
          "base_uri": "https://localhost:8080/",
          "height": 209
        },
        "outputId": "b419c4f4-a4ed-4e67-bd87-1aaa61a9c9a2"
      },
      "outputs": [
        {
          "output_type": "execute_result",
          "data": {
            "text/plain": [
              "problem_set_type\n",
              "LinearSection              88232\n",
              "MasterySection             85214\n",
              "RandomChildOrderSection    28752\n",
              "Name: count, dtype: int64"
            ],
            "text/html": [
              "<div>\n",
              "<style scoped>\n",
              "    .dataframe tbody tr th:only-of-type {\n",
              "        vertical-align: middle;\n",
              "    }\n",
              "\n",
              "    .dataframe tbody tr th {\n",
              "        vertical-align: top;\n",
              "    }\n",
              "\n",
              "    .dataframe thead th {\n",
              "        text-align: right;\n",
              "    }\n",
              "</style>\n",
              "<table border=\"1\" class=\"dataframe\">\n",
              "  <thead>\n",
              "    <tr style=\"text-align: right;\">\n",
              "      <th></th>\n",
              "      <th>count</th>\n",
              "    </tr>\n",
              "    <tr>\n",
              "      <th>problem_set_type</th>\n",
              "      <th></th>\n",
              "    </tr>\n",
              "  </thead>\n",
              "  <tbody>\n",
              "    <tr>\n",
              "      <th>LinearSection</th>\n",
              "      <td>88232</td>\n",
              "    </tr>\n",
              "    <tr>\n",
              "      <th>MasterySection</th>\n",
              "      <td>85214</td>\n",
              "    </tr>\n",
              "    <tr>\n",
              "      <th>RandomChildOrderSection</th>\n",
              "      <td>28752</td>\n",
              "    </tr>\n",
              "  </tbody>\n",
              "</table>\n",
              "</div><br><label><b>dtype:</b> int64</label>"
            ]
          },
          "metadata": {},
          "execution_count": 194
        }
      ],
      "source": [
        "df['problem_set_type'].value_counts()"
      ]
    },
    {
      "cell_type": "code",
      "execution_count": null,
      "id": "32c4587c-f33e-418c-8e86-a74a057d033a",
      "metadata": {
        "id": "32c4587c-f33e-418c-8e86-a74a057d033a",
        "colab": {
          "base_uri": "https://localhost:8080/",
          "height": 467
        },
        "outputId": "4ccd0e02-3684-432e-8949-ba3292976bed"
      },
      "outputs": [
        {
          "output_type": "execute_result",
          "data": {
            "text/plain": [
              "<Axes: xlabel='student_class_id', ylabel='teacher_id'>"
            ]
          },
          "metadata": {},
          "execution_count": 195
        },
        {
          "output_type": "display_data",
          "data": {
            "text/plain": [
              "<Figure size 640x480 with 1 Axes>"
            ],
            "image/png": "[encoded data removed]"
          },
          "metadata": {}
        }
      ],
      "source": [
        "sns.scatterplot(x='student_class_id',y='teacher_id',data=df)"
      ]
    },
    {
      "cell_type": "code",
      "execution_count": null,
      "id": "a12e27b8-1b2d-46d1-a7c3-42d7ec1b011c",
      "metadata": {
        "id": "a12e27b8-1b2d-46d1-a7c3-42d7ec1b011c"
      },
      "outputs": [],
      "source": [
        "# df.dropna(inplace=True)"
      ]
    },
    {
      "cell_type": "code",
      "execution_count": null,
      "id": "77be9aef-ab4b-47d5-96b6-d38f8aed1951",
      "metadata": {
        "id": "77be9aef-ab4b-47d5-96b6-d38f8aed1951",
        "colab": {
          "base_uri": "https://localhost:8080/",
          "height": 617
        },
        "outputId": "ab4cebdd-9684-4e36-ca94-f4cdc787eed7"
      },
      "outputs": [
        {
          "output_type": "execute_result",
          "data": {
            "text/plain": [
              "assignment_id                  0\n",
              "user_id                        0\n",
              "assistment_id                  0\n",
              "problem_id                     0\n",
              "original                       0\n",
              "correct                        0\n",
              "attempt_count                  0\n",
              "ms_first_response_time         0\n",
              "tutor_mode                     0\n",
              "answer_type                    0\n",
              "sequence_id                    0\n",
              "student_class_id            2178\n",
              "position                       0\n",
              "problem_set_type               0\n",
              "list_skill_ids            115576\n",
              "teacher_id                  2178\n",
              "school_id                      0\n",
              "dtype: int64"
            ],
            "text/html": [
              "<div>\n",
              "<style scoped>\n",
              "    .dataframe tbody tr th:only-of-type {\n",
              "        vertical-align: middle;\n",
              "    }\n",
              "\n",
              "    .dataframe tbody tr th {\n",
              "        vertical-align: top;\n",
              "    }\n",
              "\n",
              "    .dataframe thead th {\n",
              "        text-align: right;\n",
              "    }\n",
              "</style>\n",
              "<table border=\"1\" class=\"dataframe\">\n",
              "  <thead>\n",
              "    <tr style=\"text-align: right;\">\n",
              "      <th></th>\n",
              "      <th>0</th>\n",
              "    </tr>\n",
              "  </thead>\n",
              "  <tbody>\n",
              "    <tr>\n",
              "      <th>assignment_id</th>\n",
              "      <td>0</td>\n",
              "    </tr>\n",
              "    <tr>\n",
              "      <th>user_id</th>\n",
              "      <td>0</td>\n",
              "    </tr>\n",
              "    <tr>\n",
              "      <th>assistment_id</th>\n",
              "      <td>0</td>\n",
              "    </tr>\n",
              "    <tr>\n",
              "      <th>problem_id</th>\n",
              "      <td>0</td>\n",
              "    </tr>\n",
              "    <tr>\n",
              "      <th>original</th>\n",
              "      <td>0</td>\n",
              "    </tr>\n",
              "    <tr>\n",
              "      <th>correct</th>\n",
              "      <td>0</td>\n",
              "    </tr>\n",
              "    <tr>\n",
              "      <th>attempt_count</th>\n",
              "      <td>0</td>\n",
              "    </tr>\n",
              "    <tr>\n",
              "      <th>ms_first_response_time</th>\n",
              "      <td>0</td>\n",
              "    </tr>\n",
              "    <tr>\n",
              "      <th>tutor_mode</th>\n",
              "      <td>0</td>\n",
              "    </tr>\n",
              "    <tr>\n",
              "      <th>answer_type</th>\n",
              "      <td>0</td>\n",
              "    </tr>\n",
              "    <tr>\n",
              "      <th>sequence_id</th>\n",
              "      <td>0</td>\n",
              "    </tr>\n",
              "    <tr>\n",
              "      <th>student_class_id</th>\n",
              "      <td>2178</td>\n",
              "    </tr>\n",
              "    <tr>\n",
              "      <th>position</th>\n",
              "      <td>0</td>\n",
              "    </tr>\n",
              "    <tr>\n",
              "      <th>problem_set_type</th>\n",
              "      <td>0</td>\n",
              "    </tr>\n",
              "    <tr>\n",
              "      <th>list_skill_ids</th>\n",
              "      <td>115576</td>\n",
              "    </tr>\n",
              "    <tr>\n",
              "      <th>teacher_id</th>\n",
              "      <td>2178</td>\n",
              "    </tr>\n",
              "    <tr>\n",
              "      <th>school_id</th>\n",
              "      <td>0</td>\n",
              "    </tr>\n",
              "  </tbody>\n",
              "</table>\n",
              "</div><br><label><b>dtype:</b> int64</label>"
            ]
          },
          "metadata": {},
          "execution_count": 197
        }
      ],
      "source": [
        "df.isnull().sum()"
      ]
    },
    {
      "cell_type": "code",
      "execution_count": null,
      "id": "fe51fa8b-2ba8-4faf-aa50-51797c640984",
      "metadata": {
        "id": "fe51fa8b-2ba8-4faf-aa50-51797c640984",
        "colab": {
          "base_uri": "https://localhost:8080/"
        },
        "outputId": "7fdcb1d1-9cb1-4626-c127-9d8ac768e584"
      },
      "outputs": [
        {
          "output_type": "execute_result",
          "data": {
            "text/plain": [
              "Index(['tutor_mode', 'answer_type', 'sequence_id', 'problem_set_type',\n",
              "       'list_skill_ids'],\n",
              "      dtype='object')"
            ]
          },
          "metadata": {},
          "execution_count": 198
        }
      ],
      "source": [
        "df.select_dtypes('object').columns"
      ]
    },
    {
      "cell_type": "code",
      "execution_count": null,
      "id": "2fc0e984-7e0e-499b-ac35-835762d5c6f3",
      "metadata": {
        "id": "2fc0e984-7e0e-499b-ac35-835762d5c6f3"
      },
      "outputs": [],
      "source": [
        "# cat_cols=['tutor_mode', 'answer_type', 'sequence_id', 'problem_set_type',\n",
        "#        'list_skill_ids']\n",
        "for col in ['tutor_mode', 'answer_type', 'sequence_id', 'problem_set_type', 'list_skill_ids']:\n",
        "    df[col] = df[col].astype(str)\n",
        "\n",
        "dummies = pd.get_dummies(df[['tutor_mode', 'answer_type', 'sequence_id', 'problem_set_type',\n",
        "       'list_skill_ids']],drop_first=True)\n",
        "df=pd.concat([df.drop(['tutor_mode', 'answer_type', 'sequence_id', 'problem_set_type',\n",
        "       'list_skill_ids'],axis=1),dummies],axis=1)"
      ]
    },
    {
      "cell_type": "code",
      "execution_count": null,
      "id": "f8235cb0-58f5-487f-bac8-9565e048958c",
      "metadata": {
        "id": "f8235cb0-58f5-487f-bac8-9565e048958c",
        "colab": {
          "base_uri": "https://localhost:8080/",
          "height": 458
        },
        "outputId": "0e4ee510-393f-4869-86d2-02e806120ff0"
      },
      "outputs": [
        {
          "output_type": "execute_result",
          "data": {
            "text/plain": [
              "assignment_id             int64\n",
              "user_id                   int64\n",
              "assistment_id             int64\n",
              "problem_id                int64\n",
              "original                  int64\n",
              "                          ...  \n",
              "list_skill_ids_9;13        bool\n",
              "list_skill_ids_9;13;15     bool\n",
              "list_skill_ids_9;14        bool\n",
              "list_skill_ids_9;15        bool\n",
              "list_skill_ids_nan         bool\n",
              "Length: 1848, dtype: object"
            ],
            "text/html": [
              "<div>\n",
              "<style scoped>\n",
              "    .dataframe tbody tr th:only-of-type {\n",
              "        vertical-align: middle;\n",
              "    }\n",
              "\n",
              "    .dataframe tbody tr th {\n",
              "        vertical-align: top;\n",
              "    }\n",
              "\n",
              "    .dataframe thead th {\n",
              "        text-align: right;\n",
              "    }\n",
              "</style>\n",
              "<table border=\"1\" class=\"dataframe\">\n",
              "  <thead>\n",
              "    <tr style=\"text-align: right;\">\n",
              "      <th></th>\n",
              "      <th>0</th>\n",
              "    </tr>\n",
              "  </thead>\n",
              "  <tbody>\n",
              "    <tr>\n",
              "      <th>assignment_id</th>\n",
              "      <td>int64</td>\n",
              "    </tr>\n",
              "    <tr>\n",
              "      <th>user_id</th>\n",
              "      <td>int64</td>\n",
              "    </tr>\n",
              "    <tr>\n",
              "      <th>assistment_id</th>\n",
              "      <td>int64</td>\n",
              "    </tr>\n",
              "    <tr>\n",
              "      <th>problem_id</th>\n",
              "      <td>int64</td>\n",
              "    </tr>\n",
              "    <tr>\n",
              "      <th>original</th>\n",
              "      <td>int64</td>\n",
              "    </tr>\n",
              "    <tr>\n",
              "      <th>...</th>\n",
              "      <td>...</td>\n",
              "    </tr>\n",
              "    <tr>\n",
              "      <th>list_skill_ids_9;13</th>\n",
              "      <td>bool</td>\n",
              "    </tr>\n",
              "    <tr>\n",
              "      <th>list_skill_ids_9;13;15</th>\n",
              "      <td>bool</td>\n",
              "    </tr>\n",
              "    <tr>\n",
              "      <th>list_skill_ids_9;14</th>\n",
              "      <td>bool</td>\n",
              "    </tr>\n",
              "    <tr>\n",
              "      <th>list_skill_ids_9;15</th>\n",
              "      <td>bool</td>\n",
              "    </tr>\n",
              "    <tr>\n",
              "      <th>list_skill_ids_nan</th>\n",
              "      <td>bool</td>\n",
              "    </tr>\n",
              "  </tbody>\n",
              "</table>\n",
              "<p>1848 rows × 1 columns</p>\n",
              "</div><br><label><b>dtype:</b> object</label>"
            ]
          },
          "metadata": {},
          "execution_count": 200
        }
      ],
      "source": [
        "df.dtypes"
      ]
    },
    {
      "cell_type": "code",
      "execution_count": null,
      "id": "0fc7312f-ea47-4848-b123-78ebdec27835",
      "metadata": {
        "id": "0fc7312f-ea47-4848-b123-78ebdec27835"
      },
      "outputs": [],
      "source": [
        "X=df.drop('correct',axis=1).values\n",
        "y=df['correct'].values\n",
        "from sklearn.model_selection import train_test_split"
      ]
    },
    {
      "cell_type": "code",
      "execution_count": null,
      "id": "671bdfd8-3a82-42c3-bd2e-4e1959772e34",
      "metadata": {
        "id": "671bdfd8-3a82-42c3-bd2e-4e1959772e34"
      },
      "outputs": [],
      "source": [
        "y=y.astype(int)"
      ]
    },
    {
      "cell_type": "code",
      "execution_count": null,
      "id": "d4fcdcbc-f080-4755-bb78-362c821448cd",
      "metadata": {
        "id": "d4fcdcbc-f080-4755-bb78-362c821448cd"
      },
      "outputs": [],
      "source": [
        "X_train, X_test, y_train, y_test = train_test_split(X, y, test_size=0.2, random_state=42)"
      ]
    },
    {
      "cell_type": "code",
      "execution_count": null,
      "id": "59d131bf-1228-40c1-a52f-d268acd50d94",
      "metadata": {
        "id": "59d131bf-1228-40c1-a52f-d268acd50d94"
      },
      "outputs": [],
      "source": [
        "from sklearn.ensemble import RandomForestClassifier"
      ]
    },
    {
      "cell_type": "code",
      "execution_count": null,
      "id": "5ba359d2-0b27-4411-9de9-049e315f5104",
      "metadata": {
        "id": "5ba359d2-0b27-4411-9de9-049e315f5104"
      },
      "outputs": [],
      "source": [
        "model=RandomForestClassifier(n_estimators=200,max_depth=None,min_samples_leaf=1,min_samples_split=2)"
      ]
    },
    {
      "cell_type": "code",
      "execution_count": null,
      "id": "f3e7d2b5-d010-4f2f-b12e-9ae7217996fb",
      "metadata": {
        "id": "f3e7d2b5-d010-4f2f-b12e-9ae7217996fb",
        "colab": {
          "base_uri": "https://localhost:8080/",
          "height": 80
        },
        "outputId": "4807228c-2d74-4af6-9835-30bd4b6280b8"
      },
      "outputs": [
        {
          "output_type": "execute_result",
          "data": {
            "text/plain": [
              "RandomForestClassifier(n_estimators=200)"
            ],
            "text/html": [
              "<style>#sk-container-id-6 {\n",
              "  /* Definition of color scheme common for light and dark mode */\n",
              "  --sklearn-color-text: black;\n",
              "  --sklearn-color-line: gray;\n",
              "  /* Definition of color scheme for unfitted estimators */\n",
              "  --sklearn-color-unfitted-level-0: #fff5e6;\n",
              "  --sklearn-color-unfitted-level-1: #f6e4d2;\n",
              "  --sklearn-color-unfitted-level-2: #ffe0b3;\n",
              "  --sklearn-color-unfitted-level-3: chocolate;\n",
              "  /* Definition of color scheme for fitted estimators */\n",
              "  --sklearn-color-fitted-level-0: #f0f8ff;\n",
              "  --sklearn-color-fitted-level-1: #d4ebff;\n",
              "  --sklearn-color-fitted-level-2: #b3dbfd;\n",
              "  --sklearn-color-fitted-level-3: cornflowerblue;\n",
              "\n",
              "  /* Specific color for light theme */\n",
              "  --sklearn-color-text-on-default-background: var(--sg-text-color, var(--theme-code-foreground, var(--jp-content-font-color1, black)));\n",
              "  --sklearn-color-background: var(--sg-background-color, var(--theme-background, var(--jp-layout-color0, white)));\n",
              "  --sklearn-color-border-box: var(--sg-text-color, var(--theme-code-foreground, var(--jp-content-font-color1, black)));\n",
              "  --sklearn-color-icon: #696969;\n",
              "\n",
              "  @media (prefers-color-scheme: dark) {\n",
              "    /* Redefinition of color scheme for dark theme */\n",
              "    --sklearn-color-text-on-default-background: var(--sg-text-color, var(--theme-code-foreground, var(--jp-content-font-color1, white)));\n",
              "    --sklearn-color-background: var(--sg-background-color, var(--theme-background, var(--jp-layout-color0, #111)));\n",
              "    --sklearn-color-border-box: var(--sg-text-color, var(--theme-code-foreground, var(--jp-content-font-color1, white)));\n",
              "    --sklearn-color-icon: #878787;\n",
              "  }\n",
              "}\n",
              "\n",
              "#sk-container-id-6 {\n",
              "  color: var(--sklearn-color-text);\n",
              "}\n",
              "\n",
              "#sk-container-id-6 pre {\n",
              "  padding: 0;\n",
              "}\n",
              "\n",
              "#sk-container-id-6 input.sk-hidden--visually {\n",
              "  border: 0;\n",
              "  clip: rect(1px 1px 1px 1px);\n",
              "  clip: rect(1px, 1px, 1px, 1px);\n",
              "  height: 1px;\n",
              "  margin: -1px;\n",
              "  overflow: hidden;\n",
              "  padding: 0;\n",
              "  position: absolute;\n",
              "  width: 1px;\n",
              "}\n",
              "\n",
              "#sk-container-id-6 div.sk-dashed-wrapped {\n",
              "  border: 1px dashed var(--sklearn-color-line);\n",
              "  margin: 0 0.4em 0.5em 0.4em;\n",
              "  box-sizing: border-box;\n",
              "  padding-bottom: 0.4em;\n",
              "  background-color: var(--sklearn-color-background);\n",
              "}\n",
              "\n",
              "#sk-container-id-6 div.sk-container {\n",
              "  /* jupyter's `normalize.less` sets `[hidden] { display: none; }`\n",
              "     but bootstrap.min.css set `[hidden] { display: none !important; }`\n",
              "     so we also need the `!important` here to be able to override the\n",
              "     default hidden behavior on the sphinx rendered scikit-learn.org.\n",
              "     See: https://github.com/scikit-learn/scikit-learn/issues/21755 */\n",
              "  display: inline-block !important;\n",
              "  position: relative;\n",
              "}\n",
              "\n",
              "#sk-container-id-6 div.sk-text-repr-fallback {\n",
              "  display: none;\n",
              "}\n",
              "\n",
              "div.sk-parallel-item,\n",
              "div.sk-serial,\n",
              "div.sk-item {\n",
              "  /* draw centered vertical line to link estimators */\n",
              "  background-image: linear-gradient(var(--sklearn-color-text-on-default-background), var(--sklearn-color-text-on-default-background));\n",
              "  background-size: 2px 100%;\n",
              "  background-repeat: no-repeat;\n",
              "  background-position: center center;\n",
              "}\n",
              "\n",
              "/* Parallel-specific style estimator block */\n",
              "\n",
              "#sk-container-id-6 div.sk-parallel-item::after {\n",
              "  content: \"\";\n",
              "  width: 100%;\n",
              "  border-bottom: 2px solid var(--sklearn-color-text-on-default-background);\n",
              "  flex-grow: 1;\n",
              "}\n",
              "\n",
              "#sk-container-id-6 div.sk-parallel {\n",
              "  display: flex;\n",
              "  align-items: stretch;\n",
              "  justify-content: center;\n",
              "  background-color: var(--sklearn-color-background);\n",
              "  position: relative;\n",
              "}\n",
              "\n",
              "#sk-container-id-6 div.sk-parallel-item {\n",
              "  display: flex;\n",
              "  flex-direction: column;\n",
              "}\n",
              "\n",
              "#sk-container-id-6 div.sk-parallel-item:first-child::after {\n",
              "  align-self: flex-end;\n",
              "  width: 50%;\n",
              "}\n",
              "\n",
              "#sk-container-id-6 div.sk-parallel-item:last-child::after {\n",
              "  align-self: flex-start;\n",
              "  width: 50%;\n",
              "}\n",
              "\n",
              "#sk-container-id-6 div.sk-parallel-item:only-child::after {\n",
              "  width: 0;\n",
              "}\n",
              "\n",
              "/* Serial-specific style estimator block */\n",
              "\n",
              "#sk-container-id-6 div.sk-serial {\n",
              "  display: flex;\n",
              "  flex-direction: column;\n",
              "  align-items: center;\n",
              "  background-color: var(--sklearn-color-background);\n",
              "  padding-right: 1em;\n",
              "  padding-left: 1em;\n",
              "}\n",
              "\n",
              "\n",
              "/* Toggleable style: style used for estimator/Pipeline/ColumnTransformer box that is\n",
              "clickable and can be expanded/collapsed.\n",
              "- Pipeline and ColumnTransformer use this feature and define the default style\n",
              "- Estimators will overwrite some part of the style using the `sk-estimator` class\n",
              "*/\n",
              "\n",
              "/* Pipeline and ColumnTransformer style (default) */\n",
              "\n",
              "#sk-container-id-6 div.sk-toggleable {\n",
              "  /* Default theme specific background. It is overwritten whether we have a\n",
              "  specific estimator or a Pipeline/ColumnTransformer */\n",
              "  background-color: var(--sklearn-color-background);\n",
              "}\n",
              "\n",
              "/* Toggleable label */\n",
              "#sk-container-id-6 label.sk-toggleable__label {\n",
              "  cursor: pointer;\n",
              "  display: block;\n",
              "  width: 100%;\n",
              "  margin-bottom: 0;\n",
              "  padding: 0.5em;\n",
              "  box-sizing: border-box;\n",
              "  text-align: center;\n",
              "}\n",
              "\n",
              "#sk-container-id-6 label.sk-toggleable__label-arrow:before {\n",
              "  /* Arrow on the left of the label */\n",
              "  content: \"▸\";\n",
              "  float: left;\n",
              "  margin-right: 0.25em;\n",
              "  color: var(--sklearn-color-icon);\n",
              "}\n",
              "\n",
              "#sk-container-id-6 label.sk-toggleable__label-arrow:hover:before {\n",
              "  color: var(--sklearn-color-text);\n",
              "}\n",
              "\n",
              "/* Toggleable content - dropdown */\n",
              "\n",
              "#sk-container-id-6 div.sk-toggleable__content {\n",
              "  max-height: 0;\n",
              "  max-width: 0;\n",
              "  overflow: hidden;\n",
              "  text-align: left;\n",
              "  /* unfitted */\n",
              "  background-color: var(--sklearn-color-unfitted-level-0);\n",
              "}\n",
              "\n",
              "#sk-container-id-6 div.sk-toggleable__content.fitted {\n",
              "  /* fitted */\n",
              "  background-color: var(--sklearn-color-fitted-level-0);\n",
              "}\n",
              "\n",
              "#sk-container-id-6 div.sk-toggleable__content pre {\n",
              "  margin: 0.2em;\n",
              "  border-radius: 0.25em;\n",
              "  color: var(--sklearn-color-text);\n",
              "  /* unfitted */\n",
              "  background-color: var(--sklearn-color-unfitted-level-0);\n",
              "}\n",
              "\n",
              "#sk-container-id-6 div.sk-toggleable__content.fitted pre {\n",
              "  /* unfitted */\n",
              "  background-color: var(--sklearn-color-fitted-level-0);\n",
              "}\n",
              "\n",
              "#sk-container-id-6 input.sk-toggleable__control:checked~div.sk-toggleable__content {\n",
              "  /* Expand drop-down */\n",
              "  max-height: 200px;\n",
              "  max-width: 100%;\n",
              "  overflow: auto;\n",
              "}\n",
              "\n",
              "#sk-container-id-6 input.sk-toggleable__control:checked~label.sk-toggleable__label-arrow:before {\n",
              "  content: \"▾\";\n",
              "}\n",
              "\n",
              "/* Pipeline/ColumnTransformer-specific style */\n",
              "\n",
              "#sk-container-id-6 div.sk-label input.sk-toggleable__control:checked~label.sk-toggleable__label {\n",
              "  color: var(--sklearn-color-text);\n",
              "  background-color: var(--sklearn-color-unfitted-level-2);\n",
              "}\n",
              "\n",
              "#sk-container-id-6 div.sk-label.fitted input.sk-toggleable__control:checked~label.sk-toggleable__label {\n",
              "  background-color: var(--sklearn-color-fitted-level-2);\n",
              "}\n",
              "\n",
              "/* Estimator-specific style */\n",
              "\n",
              "/* Colorize estimator box */\n",
              "#sk-container-id-6 div.sk-estimator input.sk-toggleable__control:checked~label.sk-toggleable__label {\n",
              "  /* unfitted */\n",
              "  background-color: var(--sklearn-color-unfitted-level-2);\n",
              "}\n",
              "\n",
              "#sk-container-id-6 div.sk-estimator.fitted input.sk-toggleable__control:checked~label.sk-toggleable__label {\n",
              "  /* fitted */\n",
              "  background-color: var(--sklearn-color-fitted-level-2);\n",
              "}\n",
              "\n",
              "#sk-container-id-6 div.sk-label label.sk-toggleable__label,\n",
              "#sk-container-id-6 div.sk-label label {\n",
              "  /* The background is the default theme color */\n",
              "  color: var(--sklearn-color-text-on-default-background);\n",
              "}\n",
              "\n",
              "/* On hover, darken the color of the background */\n",
              "#sk-container-id-6 div.sk-label:hover label.sk-toggleable__label {\n",
              "  color: var(--sklearn-color-text);\n",
              "  background-color: var(--sklearn-color-unfitted-level-2);\n",
              "}\n",
              "\n",
              "/* Label box, darken color on hover, fitted */\n",
              "#sk-container-id-6 div.sk-label.fitted:hover label.sk-toggleable__label.fitted {\n",
              "  color: var(--sklearn-color-text);\n",
              "  background-color: var(--sklearn-color-fitted-level-2);\n",
              "}\n",
              "\n",
              "/* Estimator label */\n",
              "\n",
              "#sk-container-id-6 div.sk-label label {\n",
              "  font-family: monospace;\n",
              "  font-weight: bold;\n",
              "  display: inline-block;\n",
              "  line-height: 1.2em;\n",
              "}\n",
              "\n",
              "#sk-container-id-6 div.sk-label-container {\n",
              "  text-align: center;\n",
              "}\n",
              "\n",
              "/* Estimator-specific */\n",
              "#sk-container-id-6 div.sk-estimator {\n",
              "  font-family: monospace;\n",
              "  border: 1px dotted var(--sklearn-color-border-box);\n",
              "  border-radius: 0.25em;\n",
              "  box-sizing: border-box;\n",
              "  margin-bottom: 0.5em;\n",
              "  /* unfitted */\n",
              "  background-color: var(--sklearn-color-unfitted-level-0);\n",
              "}\n",
              "\n",
              "#sk-container-id-6 div.sk-estimator.fitted {\n",
              "  /* fitted */\n",
              "  background-color: var(--sklearn-color-fitted-level-0);\n",
              "}\n",
              "\n",
              "/* on hover */\n",
              "#sk-container-id-6 div.sk-estimator:hover {\n",
              "  /* unfitted */\n",
              "  background-color: var(--sklearn-color-unfitted-level-2);\n",
              "}\n",
              "\n",
              "#sk-container-id-6 div.sk-estimator.fitted:hover {\n",
              "  /* fitted */\n",
              "  background-color: var(--sklearn-color-fitted-level-2);\n",
              "}\n",
              "\n",
              "/* Specification for estimator info (e.g. \"i\" and \"?\") */\n",
              "\n",
              "/* Common style for \"i\" and \"?\" */\n",
              "\n",
              ".sk-estimator-doc-link,\n",
              "a:link.sk-estimator-doc-link,\n",
              "a:visited.sk-estimator-doc-link {\n",
              "  float: right;\n",
              "  font-size: smaller;\n",
              "  line-height: 1em;\n",
              "  font-family: monospace;\n",
              "  background-color: var(--sklearn-color-background);\n",
              "  border-radius: 1em;\n",
              "  height: 1em;\n",
              "  width: 1em;\n",
              "  text-decoration: none !important;\n",
              "  margin-left: 1ex;\n",
              "  /* unfitted */\n",
              "  border: var(--sklearn-color-unfitted-level-1) 1pt solid;\n",
              "  color: var(--sklearn-color-unfitted-level-1);\n",
              "}\n",
              "\n",
              ".sk-estimator-doc-link.fitted,\n",
              "a:link.sk-estimator-doc-link.fitted,\n",
              "a:visited.sk-estimator-doc-link.fitted {\n",
              "  /* fitted */\n",
              "  border: var(--sklearn-color-fitted-level-1) 1pt solid;\n",
              "  color: var(--sklearn-color-fitted-level-1);\n",
              "}\n",
              "\n",
              "/* On hover */\n",
              "div.sk-estimator:hover .sk-estimator-doc-link:hover,\n",
              ".sk-estimator-doc-link:hover,\n",
              "div.sk-label-container:hover .sk-estimator-doc-link:hover,\n",
              ".sk-estimator-doc-link:hover {\n",
              "  /* unfitted */\n",
              "  background-color: var(--sklearn-color-unfitted-level-3);\n",
              "  color: var(--sklearn-color-background);\n",
              "  text-decoration: none;\n",
              "}\n",
              "\n",
              "div.sk-estimator.fitted:hover .sk-estimator-doc-link.fitted:hover,\n",
              ".sk-estimator-doc-link.fitted:hover,\n",
              "div.sk-label-container:hover .sk-estimator-doc-link.fitted:hover,\n",
              ".sk-estimator-doc-link.fitted:hover {\n",
              "  /* fitted */\n",
              "  background-color: var(--sklearn-color-fitted-level-3);\n",
              "  color: var(--sklearn-color-background);\n",
              "  text-decoration: none;\n",
              "}\n",
              "\n",
              "/* Span, style for the box shown on hovering the info icon */\n",
              ".sk-estimator-doc-link span {\n",
              "  display: none;\n",
              "  z-index: 9999;\n",
              "  position: relative;\n",
              "  font-weight: normal;\n",
              "  right: .2ex;\n",
              "  padding: .5ex;\n",
              "  margin: .5ex;\n",
              "  width: min-content;\n",
              "  min-width: 20ex;\n",
              "  max-width: 50ex;\n",
              "  color: var(--sklearn-color-text);\n",
              "  box-shadow: 2pt 2pt 4pt #999;\n",
              "  /* unfitted */\n",
              "  background: var(--sklearn-color-unfitted-level-0);\n",
              "  border: .5pt solid var(--sklearn-color-unfitted-level-3);\n",
              "}\n",
              "\n",
              ".sk-estimator-doc-link.fitted span {\n",
              "  /* fitted */\n",
              "  background: var(--sklearn-color-fitted-level-0);\n",
              "  border: var(--sklearn-color-fitted-level-3);\n",
              "}\n",
              "\n",
              ".sk-estimator-doc-link:hover span {\n",
              "  display: block;\n",
              "}\n",
              "\n",
              "/* \"?\"-specific style due to the `<a>` HTML tag */\n",
              "\n",
              "#sk-container-id-6 a.estimator_doc_link {\n",
              "  float: right;\n",
              "  font-size: 1rem;\n",
              "  line-height: 1em;\n",
              "  font-family: monospace;\n",
              "  background-color: var(--sklearn-color-background);\n",
              "  border-radius: 1rem;\n",
              "  height: 1rem;\n",
              "  width: 1rem;\n",
              "  text-decoration: none;\n",
              "  /* unfitted */\n",
              "  color: var(--sklearn-color-unfitted-level-1);\n",
              "  border: var(--sklearn-color-unfitted-level-1) 1pt solid;\n",
              "}\n",
              "\n",
              "#sk-container-id-6 a.estimator_doc_link.fitted {\n",
              "  /* fitted */\n",
              "  border: var(--sklearn-color-fitted-level-1) 1pt solid;\n",
              "  color: var(--sklearn-color-fitted-level-1);\n",
              "}\n",
              "\n",
              "/* On hover */\n",
              "#sk-container-id-6 a.estimator_doc_link:hover {\n",
              "  /* unfitted */\n",
              "  background-color: var(--sklearn-color-unfitted-level-3);\n",
              "  color: var(--sklearn-color-background);\n",
              "  text-decoration: none;\n",
              "}\n",
              "\n",
              "#sk-container-id-6 a.estimator_doc_link.fitted:hover {\n",
              "  /* fitted */\n",
              "  background-color: var(--sklearn-color-fitted-level-3);\n",
              "}\n",
              "</style><div id=\"sk-container-id-6\" class=\"sk-top-container\"><div class=\"sk-text-repr-fallback\"><pre>RandomForestClassifier(n_estimators=200)</pre><b>In a Jupyter environment, please rerun this cell to show the HTML representation or trust the notebook. <br />On GitHub, the HTML representation is unable to render, please try loading this page with nbviewer.org.</b></div><div class=\"sk-container\" hidden><div class=\"sk-item\"><div class=\"sk-estimator fitted sk-toggleable\"><input class=\"sk-toggleable__control sk-hidden--visually\" id=\"sk-estimator-id-6\" type=\"checkbox\" checked><label for=\"sk-estimator-id-6\" class=\"sk-toggleable__label fitted sk-toggleable__label-arrow fitted\">&nbsp;&nbsp;RandomForestClassifier<a class=\"sk-estimator-doc-link fitted\" rel=\"noreferrer\" target=\"_blank\" href=\"https://scikit-learn.org/1.5/modules/generated/sklearn.ensemble.RandomForestClassifier.html\">?<span>Documentation for RandomForestClassifier</span></a><span class=\"sk-estimator-doc-link fitted\">i<span>Fitted</span></span></label><div class=\"sk-toggleable__content fitted\"><pre>RandomForestClassifier(n_estimators=200)</pre></div> </div></div></div></div>"
            ]
          },
          "metadata": {},
          "execution_count": 245
        }
      ],
      "source": [
        "model.fit(X_train,y_train)"
      ]
    },
    {
      "cell_type": "code",
      "source": [
        "preds=model.predict(X_test)"
      ],
      "metadata": {
        "id": "SK22RsJXrvA4"
      },
      "id": "SK22RsJXrvA4",
      "execution_count": null,
      "outputs": []
    },
    {
      "cell_type": "code",
      "source": [
        "from sklearn.metrics import classification_report,confusion_matrix"
      ],
      "metadata": {
        "id": "JMeH_w71r7mn"
      },
      "id": "JMeH_w71r7mn",
      "execution_count": null,
      "outputs": []
    },
    {
      "cell_type": "code",
      "source": [
        "print(classification_report(y_test,preds))"
      ],
      "metadata": {
        "id": "cj2KLvGur_8t",
        "outputId": "92429164-b1a7-4859-e09d-b0ffd95fe161",
        "colab": {
          "base_uri": "https://localhost:8080/"
        }
      },
      "id": "cj2KLvGur_8t",
      "execution_count": null,
      "outputs": [
        {
          "output_type": "stream",
          "name": "stdout",
          "text": [
            "              precision    recall  f1-score   support\n",
            "\n",
            "           0       0.83      0.75      0.79     14945\n",
            "           1       0.86      0.91      0.88     25495\n",
            "\n",
            "    accuracy                           0.85     40440\n",
            "   macro avg       0.84      0.83      0.84     40440\n",
            "weighted avg       0.85      0.85      0.85     40440\n",
            "\n"
          ]
        }
      ]
    },
    {
      "cell_type": "code",
      "source": [
        "import joblib\n",
        "joblib.dump(model, 'my_random_forest_model_quizclassificaton.pkl')  # Save the model\n",
        "from google.colab import files\n",
        "\n",
        "files.download('my_random_forest_model_quizclassificaton.pkl')  # Download the model\n",
        "\n"
      ],
      "metadata": {
        "id": "Ybpmh6nry9NE",
        "outputId": "03bbe4cf-d01e-4d9c-8478-43d285e08b73",
        "colab": {
          "base_uri": "https://localhost:8080/",
          "height": 34
        }
      },
      "id": "Ybpmh6nry9NE",
      "execution_count": null,
      "outputs": [
        {
          "output_type": "display_data",
          "data": {
            "text/plain": [
              "<IPython.core.display.Javascript object>"
            ],
            "application/javascript": [
              "\n",
              "    async function download(id, filename, size) {\n",
              "      if (!google.colab.kernel.accessAllowed) {\n",
              "        return;\n",
              "      }\n",
              "      const div = document.createElement('div');\n",
              "      const label = document.createElement('label');\n",
              "      label.textContent = `Downloading \"${filename}\": `;\n",
              "      div.appendChild(label);\n",
              "      const progress = document.createElement('progress');\n",
              "      progress.max = size;\n",
              "      div.appendChild(progress);\n",
              "      document.body.appendChild(div);\n",
              "\n",
              "      const buffers = [];\n",
              "      let downloaded = 0;\n",
              "\n",
              "      const channel = await google.colab.kernel.comms.open(id);\n",
              "      // Send a message to notify the kernel that we're ready.\n",
              "      channel.send({})\n",
              "\n",
              "      for await (const message of channel.messages) {\n",
              "        // Send a message to notify the kernel that we're ready.\n",
              "        channel.send({})\n",
              "        if (message.buffers) {\n",
              "          for (const buffer of message.buffers) {\n",
              "            buffers.push(buffer);\n",
              "            downloaded += buffer.byteLength;\n",
              "            progress.value = downloaded;\n",
              "          }\n",
              "        }\n",
              "      }\n",
              "      const blob = new Blob(buffers, {type: 'application/binary'});\n",
              "      const a = document.createElement('a');\n",
              "      a.href = window.URL.createObjectURL(blob);\n",
              "      a.download = filename;\n",
              "      div.appendChild(a);\n",
              "      a.click();\n",
              "      div.remove();\n",
              "    }\n",
              "  "
            ]
          },
          "metadata": {}
        },
        {
          "output_type": "display_data",
          "data": {
            "text/plain": [
              "<IPython.core.display.Javascript object>"
            ],
            "application/javascript": [
              "download(\"download_95362128-8565-4476-a881-00e1e3614da6\", \"my_random_forest_model_quizclassificaton.pkl\", 997529769)"
            ]
          },
          "metadata": {}
        }
      ]
    },
    {
      "cell_type": "code",
      "execution_count": null,
      "id": "f9d40146-9d9c-4e14-9399-0636f02b9d56",
      "metadata": {
        "id": "f9d40146-9d9c-4e14-9399-0636f02b9d56"
      },
      "outputs": [],
      "source": [
        "from sklearn.ensemble import HistGradientBoostingClassifier\n",
        "model_2 =HistGradientBoostingClassifier(\n",
        "    learning_rate=0.08,      # Moderate learning rate\n",
        "    max_iter=200,            # More boosting iterations\n",
        "    max_depth=100,            # Moderate depth to prevent overfitting\n",
        "    min_samples_leaf=20,     # Requires more samples at the leaves\n",
        "    max_bins=255,            # High number of bins for better detail\n",
        "    l2_regularization=0.1,   # Regularization to avoid overfitting\n",
        "    random_state=42          # For reproducibility\n",
        ")"
      ]
    },
    {
      "cell_type": "code",
      "source": [
        "model_2.fit(X_train,y_train)"
      ],
      "metadata": {
        "id": "T5EioyuP1zNq"
      },
      "id": "T5EioyuP1zNq",
      "execution_count": null,
      "outputs": []
    },
    {
      "cell_type": "code",
      "source": [
        "hist_preds=model_2.predict(X_test)\n",
        "print(classification_report(y_test,hist_preds))"
      ],
      "metadata": {
        "id": "Ucy_pKN9pZKA",
        "outputId": "b7a5efcf-b867-42f7-9f94-e58b06147871",
        "colab": {
          "base_uri": "https://localhost:8080/"
        }
      },
      "id": "Ucy_pKN9pZKA",
      "execution_count": null,
      "outputs": [
        {
          "output_type": "stream",
          "name": "stdout",
          "text": [
            "              precision    recall  f1-score   support\n",
            "\n",
            "           0       0.93      0.61      0.74     14945\n",
            "           1       0.81      0.97      0.88     25495\n",
            "\n",
            "    accuracy                           0.84     40440\n",
            "   macro avg       0.87      0.79      0.81     40440\n",
            "weighted avg       0.85      0.84      0.83     40440\n",
            "\n"
          ]
        }
      ]
    },
    {
      "cell_type": "code",
      "execution_count": null,
      "id": "1562f7a3-c86a-4835-b2d8-84d8ea326b9a",
      "metadata": {
        "id": "1562f7a3-c86a-4835-b2d8-84d8ea326b9a"
      },
      "outputs": [],
      "source": [
        "# from sklearn.preprocessing import MinMaxScaler\n",
        "\n",
        "# # Initialize the scaler\n",
        "# scaler = MinMaxScaler()\n",
        "\n",
        "# # Fit and transform the training data, and transform the test data\n",
        "# X_train_scaled = scaler.fit_transform(X_train)\n",
        "# X_test_scaled = scaler.transform(X_test)\n"
      ]
    },
    {
      "cell_type": "code",
      "execution_count": null,
      "id": "59d00445-23f0-458d-af1d-0ffa4808708c",
      "metadata": {
        "id": "59d00445-23f0-458d-af1d-0ffa4808708c"
      },
      "outputs": [],
      "source": [
        "X_train.shape"
      ]
    },
    {
      "cell_type": "code",
      "source": [
        "# from tensorflow.keras.models import Sequential\n",
        "# from tensorflow.keras.layers import Dropout,Dense\n",
        "# from tensorflow.keras.callbacks import EarlyStopping"
      ],
      "metadata": {
        "id": "nYGlRQ2Rd2Fw"
      },
      "id": "nYGlRQ2Rd2Fw",
      "execution_count": null,
      "outputs": []
    },
    {
      "cell_type": "code",
      "execution_count": null,
      "id": "5d6b4959-7ad6-4dc5-b356-e86dad4e2763",
      "metadata": {
        "id": "5d6b4959-7ad6-4dc5-b356-e86dad4e2763"
      },
      "outputs": [],
      "source": [
        "# nn = Sequential()\n",
        "# nn.add(Dense(1847,activation='relu'))\n",
        "# nn.add(Dropout(0.2))\n",
        "\n",
        "# nn.add(Dense(925,activation='relu'))\n",
        "# nn.add(Dropout(0.2))\n",
        "\n",
        "# nn.add(Dense(460,activation='relu'))\n",
        "# nn.add(Dropout(0.2))\n",
        "\n",
        "\n",
        "# nn.add(Dense(230,activation='relu'))\n",
        "# nn.add(Dropout(0.2))\n",
        "\n",
        "\n",
        "# nn.add(Dense(1,activation='sigmoid'))\n",
        "\n",
        "# from tensorflow.keras.optimizers import Adam\n",
        "# nn.compile(loss='binary_crossentropy', optimizer='Adam')"
      ]
    },
    {
      "cell_type": "code",
      "execution_count": null,
      "id": "5dd4d83b-7013-47a5-a6e7-959287416728",
      "metadata": {
        "id": "5dd4d83b-7013-47a5-a6e7-959287416728"
      },
      "outputs": [],
      "source": [
        "\n",
        "# # import numpy as np\n",
        "\n",
        "# # X_train = np.array(X_train, dtype=np.float32)\n",
        "# # y_train = np.array(y_train, dtype=np.float32)\n",
        "# # X_test = np.array(X_test, dtype=np.float32)\n",
        "# # y_test = np.array(y_test, dtype=np.float32)\n",
        "# early_stop = EarlyStopping(monitor='val_loss', patience=3)\n",
        "\n",
        "# nn.fit(x=X_train_scaled, y=y_train, epochs=20, batch_size=512, validation_data=(X_test_scaled, y_test), callbacks=[early_stop])\n"
      ]
    },
    {
      "cell_type": "code",
      "execution_count": null,
      "id": "d9281c3c-f411-4299-9de2-0d8529bcdfa0",
      "metadata": {
        "id": "d9281c3c-f411-4299-9de2-0d8529bcdfa0"
      },
      "outputs": [],
      "source": [
        "# losses=pd.DataFrame(nn.history.history)"
      ]
    },
    {
      "cell_type": "code",
      "execution_count": null,
      "id": "9650eec2-a4c7-4221-af85-98b4538ffac6",
      "metadata": {
        "id": "9650eec2-a4c7-4221-af85-98b4538ffac6"
      },
      "outputs": [],
      "source": [
        "# losses.plot()"
      ]
    },
    {
      "cell_type": "markdown",
      "source": [],
      "metadata": {
        "id": "cfla71FniFXS"
      },
      "id": "cfla71FniFXS"
    },
    {
      "cell_type": "code",
      "execution_count": null,
      "id": "93536156-5ee7-4cf5-938d-0dcc79e87806",
      "metadata": {
        "id": "93536156-5ee7-4cf5-938d-0dcc79e87806"
      },
      "outputs": [],
      "source": [
        "# from sklearn.metrics import classification_report , confusion_matrix"
      ]
    },
    {
      "cell_type": "code",
      "execution_count": null,
      "id": "6e4ecb5b-6105-4dd6-a081-fc17189c3fbd",
      "metadata": {
        "id": "6e4ecb5b-6105-4dd6-a081-fc17189c3fbd"
      },
      "outputs": [],
      "source": [
        "# preds=(nn.predict(X_test_scaled) > 0.5).astype('int32')\n"
      ]
    },
    {
      "cell_type": "code",
      "execution_count": null,
      "id": "546b4734-8b47-427e-b60b-ab62fa63d576",
      "metadata": {
        "id": "546b4734-8b47-427e-b60b-ab62fa63d576"
      },
      "outputs": [],
      "source": [
        "# print(classification_report(y_test,preds))"
      ]
    },
    {
      "cell_type": "code",
      "execution_count": null,
      "id": "cea70eb0-f608-458b-b2b3-1f353c86ed2b",
      "metadata": {
        "id": "cea70eb0-f608-458b-b2b3-1f353c86ed2b"
      },
      "outputs": [],
      "source": [
        "1919/2"
      ]
    },
    {
      "cell_type": "code",
      "execution_count": null,
      "id": "5fb4bbf1-c3c6-4dd0-895b-d02c1a93ff7e",
      "metadata": {
        "id": "5fb4bbf1-c3c6-4dd0-895b-d02c1a93ff7e"
      },
      "outputs": [],
      "source": []
    }
  ],
  "metadata": {
    "accelerator": "TPU",
    "colab": {
      "gpuType": "V28",
      "provenance": [],
      "include_colab_link": true
    },
    "kernelspec": {
      "display_name": "Python 3",
      "name": "python3"
    },
    "language_info": {
      "codemirror_mode": {
        "name": "ipython",
        "version": 3
      },
      "file_extension": ".py",
      "mimetype": "text/x-python",
      "name": "python",
      "nbconvert_exporter": "python",
      "pygments_lexer": "ipython3",
      "version": "3.12.3"
    }
  },
  "nbformat": 4,
  "nbformat_minor": 5
}